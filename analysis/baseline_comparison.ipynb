{
 "cells": [
  {
   "cell_type": "markdown",
   "metadata": {},
   "source": [
    "# Baseline comparison and Ablation study"
   ]
  },
  {
   "cell_type": "markdown",
   "metadata": {},
   "source": [
    "This notebook shows the performance comparison of our models with other models  "
   ]
  },
  {
   "cell_type": "markdown",
   "metadata": {},
   "source": [
    "## Set up the analysis"
   ]
  },
  {
   "cell_type": "markdown",
   "metadata": {},
   "source": [
    "### Import the python modules"
   ]
  },
  {
   "cell_type": "code",
   "execution_count": 57,
   "metadata": {},
   "outputs": [],
   "source": [
    "import pandas as pd\n",
    "import numpy as np\n",
    "import json\n",
    "import seaborn as sns\n",
    "import matplotlib.pyplot as plt\n",
    "from matplotlib.pyplot import MultipleLocator"
   ]
  },
  {
   "cell_type": "markdown",
   "metadata": {},
   "source": [
    "### Utils functions"
   ]
  },
  {
   "cell_type": "code",
   "execution_count": 2,
   "metadata": {},
   "outputs": [],
   "source": [
    "## acc, f1, pre, recall\n",
    "def parse_json(dir,checkpoint,fold):\n",
    "    data=json.load(open(dir+\"fold_\"+str(fold)+\"/checkpoint-\"+str(checkpoint)+\"/trainer_state.json\",\"r\"))\n",
    "    data=pd.DataFrame.from_dict(data[\"log_history\"][-1],orient='index')\n",
    "    data=data[[i.startswith((\"eval_acc\",\"eval_f1\",\"eval_precision\",\"eval_recall\")) for i in data.index.to_list()]]\n",
    "    data=data.drop(\"eval_f1_ave\")\n",
    "    return(data.to_numpy().reshape(4,9))"
   ]
  },
  {
   "cell_type": "code",
   "execution_count": 3,
   "metadata": {},
   "outputs": [],
   "source": [
    "## acc, f1, pre, recall\n",
    "def parse_json_epoch(dir,checkpoint,fold,epoch):\n",
    "    data=json.load(open(dir+\"fold_\"+str(fold)+\"/checkpoint-\"+str(checkpoint)+\"/trainer_state.json\",\"r\"))\n",
    "    data=data[\"log_history\"]\n",
    "    best_id=0\n",
    "    max_f1=0\n",
    "    for i in range(int(epoch*15305/160/5)):\n",
    "        if i %2==1:\n",
    "            if data[i]['eval_f1_ave'] > max_f1:\n",
    "                max_f1=data[i]['eval_f1_ave']\n",
    "                best_id=i\n",
    "        else:\n",
    "            continue\n",
    "    print(\"The best epoch is \",str(data[best_id][\"epoch\"]))\n",
    "    data=pd.DataFrame.from_dict(data[best_id],orient='index')\n",
    "    data=data[[i.startswith((\"eval_acc\",\"eval_f1\",\"eval_precision\",\"eval_recall\")) for i in data.index.to_list()]]\n",
    "    data=data.drop(\"eval_f1_ave\")\n",
    "    return(data.to_numpy().reshape(4,9))"
   ]
  },
  {
   "cell_type": "code",
   "execution_count": 4,
   "metadata": {},
   "outputs": [],
   "source": [
    "def wide_to_long(metric,anno):\n",
    "    metric=metric.stack().reset_index()\n",
    "    metric.columns=[\"Task\",\"metric\",\"value\"]\n",
    "    metric[\"type\"]=anno\n",
    "    return(metric)"
   ]
  },
  {
   "cell_type": "markdown",
   "metadata": {},
   "source": [
    "## Metrics of models"
   ]
  },
  {
   "cell_type": "markdown",
   "metadata": {},
   "source": [
    "### Augumented model"
   ]
  },
  {
   "cell_type": "code",
   "execution_count": 5,
   "metadata": {},
   "outputs": [],
   "source": [
    "aug_result=pd.read_csv('../result/results_aug_all.csv')"
   ]
  },
  {
   "cell_type": "code",
   "execution_count": 6,
   "metadata": {},
   "outputs": [
    {
     "data": {
      "text/html": [
       "<div>\n",
       "<style scoped>\n",
       "    .dataframe tbody tr th:only-of-type {\n",
       "        vertical-align: middle;\n",
       "    }\n",
       "\n",
       "    .dataframe tbody tr th {\n",
       "        vertical-align: top;\n",
       "    }\n",
       "\n",
       "    .dataframe thead th {\n",
       "        text-align: right;\n",
       "    }\n",
       "</style>\n",
       "<table border=\"1\" class=\"dataframe\">\n",
       "  <thead>\n",
       "    <tr style=\"text-align: right;\">\n",
       "      <th></th>\n",
       "      <th>ace2_bind_0</th>\n",
       "      <th>COV2-2096_400_0</th>\n",
       "      <th>COV2-2832_400_0</th>\n",
       "      <th>COV2-2094_400_0</th>\n",
       "      <th>COV2-2050_400_0</th>\n",
       "      <th>COV2-2677_400_0</th>\n",
       "      <th>COV2-2479_400_0</th>\n",
       "      <th>COV2-2165_400_0</th>\n",
       "      <th>COV2-2499_400_0</th>\n",
       "      <th>ace2_bind_1</th>\n",
       "      <th>...</th>\n",
       "      <th>COV2-2499_400_3</th>\n",
       "      <th>ace2_bind_4</th>\n",
       "      <th>COV2-2096_400_4</th>\n",
       "      <th>COV2-2832_400_4</th>\n",
       "      <th>COV2-2094_400_4</th>\n",
       "      <th>COV2-2050_400_4</th>\n",
       "      <th>COV2-2677_400_4</th>\n",
       "      <th>COV2-2479_400_4</th>\n",
       "      <th>COV2-2165_400_4</th>\n",
       "      <th>COV2-2499_400_4</th>\n",
       "    </tr>\n",
       "  </thead>\n",
       "  <tbody>\n",
       "    <tr>\n",
       "      <th>0</th>\n",
       "      <td>0.829370</td>\n",
       "      <td>0.874575</td>\n",
       "      <td>0.940946</td>\n",
       "      <td>0.873008</td>\n",
       "      <td>0.879540</td>\n",
       "      <td>0.901489</td>\n",
       "      <td>0.865952</td>\n",
       "      <td>0.877711</td>\n",
       "      <td>0.915338</td>\n",
       "      <td>0.808466</td>\n",
       "      <td>...</td>\n",
       "      <td>0.925248</td>\n",
       "      <td>0.804234</td>\n",
       "      <td>0.882384</td>\n",
       "      <td>0.945112</td>\n",
       "      <td>0.881861</td>\n",
       "      <td>0.884997</td>\n",
       "      <td>0.910612</td>\n",
       "      <td>0.882384</td>\n",
       "      <td>0.882645</td>\n",
       "      <td>0.916100</td>\n",
       "    </tr>\n",
       "    <tr>\n",
       "      <th>1</th>\n",
       "      <td>0.635236</td>\n",
       "      <td>0.783127</td>\n",
       "      <td>0.740764</td>\n",
       "      <td>0.706453</td>\n",
       "      <td>0.663174</td>\n",
       "      <td>0.745534</td>\n",
       "      <td>0.579980</td>\n",
       "      <td>0.572308</td>\n",
       "      <td>0.842957</td>\n",
       "      <td>0.632146</td>\n",
       "      <td>...</td>\n",
       "      <td>0.870877</td>\n",
       "      <td>0.627241</td>\n",
       "      <td>0.797011</td>\n",
       "      <td>0.772133</td>\n",
       "      <td>0.710291</td>\n",
       "      <td>0.672529</td>\n",
       "      <td>0.758983</td>\n",
       "      <td>0.591132</td>\n",
       "      <td>0.585351</td>\n",
       "      <td>0.848220</td>\n",
       "    </tr>\n",
       "    <tr>\n",
       "      <th>2</th>\n",
       "      <td>0.828069</td>\n",
       "      <td>0.839146</td>\n",
       "      <td>0.764005</td>\n",
       "      <td>0.812370</td>\n",
       "      <td>0.801393</td>\n",
       "      <td>0.861066</td>\n",
       "      <td>0.726375</td>\n",
       "      <td>0.714360</td>\n",
       "      <td>0.872193</td>\n",
       "      <td>0.820469</td>\n",
       "      <td>...</td>\n",
       "      <td>0.878397</td>\n",
       "      <td>0.805105</td>\n",
       "      <td>0.841650</td>\n",
       "      <td>0.780319</td>\n",
       "      <td>0.806374</td>\n",
       "      <td>0.779519</td>\n",
       "      <td>0.863856</td>\n",
       "      <td>0.706063</td>\n",
       "      <td>0.734566</td>\n",
       "      <td>0.869669</td>\n",
       "    </tr>\n",
       "    <tr>\n",
       "      <th>3</th>\n",
       "      <td>0.663230</td>\n",
       "      <td>0.805656</td>\n",
       "      <td>0.751725</td>\n",
       "      <td>0.741231</td>\n",
       "      <td>0.701380</td>\n",
       "      <td>0.786250</td>\n",
       "      <td>0.601290</td>\n",
       "      <td>0.592903</td>\n",
       "      <td>0.856463</td>\n",
       "      <td>0.653790</td>\n",
       "      <td>...</td>\n",
       "      <td>0.874567</td>\n",
       "      <td>0.647105</td>\n",
       "      <td>0.816008</td>\n",
       "      <td>0.776151</td>\n",
       "      <td>0.743929</td>\n",
       "      <td>0.707022</td>\n",
       "      <td>0.798120</td>\n",
       "      <td>0.616350</td>\n",
       "      <td>0.611118</td>\n",
       "      <td>0.858346</td>\n",
       "    </tr>\n",
       "  </tbody>\n",
       "</table>\n",
       "<p>4 rows × 45 columns</p>\n",
       "</div>"
      ],
      "text/plain": [
       "   ace2_bind_0  COV2-2096_400_0  COV2-2832_400_0  COV2-2094_400_0  \\\n",
       "0     0.829370         0.874575         0.940946         0.873008   \n",
       "1     0.635236         0.783127         0.740764         0.706453   \n",
       "2     0.828069         0.839146         0.764005         0.812370   \n",
       "3     0.663230         0.805656         0.751725         0.741231   \n",
       "\n",
       "   COV2-2050_400_0  COV2-2677_400_0  COV2-2479_400_0  COV2-2165_400_0  \\\n",
       "0         0.879540         0.901489         0.865952         0.877711   \n",
       "1         0.663174         0.745534         0.579980         0.572308   \n",
       "2         0.801393         0.861066         0.726375         0.714360   \n",
       "3         0.701380         0.786250         0.601290         0.592903   \n",
       "\n",
       "   COV2-2499_400_0  ace2_bind_1  ...  COV2-2499_400_3  ace2_bind_4  \\\n",
       "0         0.915338     0.808466  ...         0.925248     0.804234   \n",
       "1         0.842957     0.632146  ...         0.870877     0.627241   \n",
       "2         0.872193     0.820469  ...         0.878397     0.805105   \n",
       "3         0.856463     0.653790  ...         0.874567     0.647105   \n",
       "\n",
       "   COV2-2096_400_4  COV2-2832_400_4  COV2-2094_400_4  COV2-2050_400_4  \\\n",
       "0         0.882384         0.945112         0.881861         0.884997   \n",
       "1         0.797011         0.772133         0.710291         0.672529   \n",
       "2         0.841650         0.780319         0.806374         0.779519   \n",
       "3         0.816008         0.776151         0.743929         0.707022   \n",
       "\n",
       "   COV2-2677_400_4  COV2-2479_400_4  COV2-2165_400_4  COV2-2499_400_4  \n",
       "0         0.910612         0.882384         0.882645         0.916100  \n",
       "1         0.758983         0.591132         0.585351         0.848220  \n",
       "2         0.863856         0.706063         0.734566         0.869669  \n",
       "3         0.798120         0.616350         0.611118         0.858346  \n",
       "\n",
       "[4 rows x 45 columns]"
      ]
     },
     "execution_count": 6,
     "metadata": {},
     "output_type": "execute_result"
    }
   ],
   "source": [
    "aug_result"
   ]
  },
  {
   "cell_type": "code",
   "execution_count": 7,
   "metadata": {},
   "outputs": [],
   "source": [
    "metric=pd.read_csv('../data/covid_model.csv',index_col=0)"
   ]
  },
  {
   "cell_type": "code",
   "execution_count": 8,
   "metadata": {},
   "outputs": [],
   "source": [
    "task=metric.index"
   ]
  },
  {
   "cell_type": "code",
   "execution_count": 9,
   "metadata": {},
   "outputs": [],
   "source": [
    "aug_metric=pd.DataFrame(index=task)"
   ]
  },
  {
   "cell_type": "code",
   "execution_count": 10,
   "metadata": {},
   "outputs": [],
   "source": [
    "aug_metric[\"Accuracy\"]=aug_result.iloc[0,:].to_numpy().reshape(5,9).mean(axis=0)\n",
    "aug_metric[\"Precision\"]=aug_result.iloc[1,:].to_numpy().reshape(5,9).mean(axis=0)\n",
    "aug_metric[\"Recall\"]=aug_result.iloc[2,:].to_numpy().reshape(5,9).mean(axis=0)\n",
    "aug_metric[\"F1\"]=aug_result.iloc[3,:].to_numpy().reshape(5,9).mean(axis=0)"
   ]
  },
  {
   "cell_type": "code",
   "execution_count": 11,
   "metadata": {},
   "outputs": [
    {
     "data": {
      "text/html": [
       "<div>\n",
       "<style scoped>\n",
       "    .dataframe tbody tr th:only-of-type {\n",
       "        vertical-align: middle;\n",
       "    }\n",
       "\n",
       "    .dataframe tbody tr th {\n",
       "        vertical-align: top;\n",
       "    }\n",
       "\n",
       "    .dataframe thead th {\n",
       "        text-align: right;\n",
       "    }\n",
       "</style>\n",
       "<table border=\"1\" class=\"dataframe\">\n",
       "  <thead>\n",
       "    <tr style=\"text-align: right;\">\n",
       "      <th></th>\n",
       "      <th>Accuracy</th>\n",
       "      <th>Precision</th>\n",
       "      <th>Recall</th>\n",
       "      <th>F1</th>\n",
       "    </tr>\n",
       "    <tr>\n",
       "      <th>Task</th>\n",
       "      <th></th>\n",
       "      <th></th>\n",
       "      <th></th>\n",
       "      <th></th>\n",
       "    </tr>\n",
       "  </thead>\n",
       "  <tbody>\n",
       "    <tr>\n",
       "      <th>ACE2</th>\n",
       "      <td>0.809115</td>\n",
       "      <td>0.624695</td>\n",
       "      <td>0.806465</td>\n",
       "      <td>0.645141</td>\n",
       "    </tr>\n",
       "    <tr>\n",
       "      <th>COV2-2096</th>\n",
       "      <td>0.881665</td>\n",
       "      <td>0.796557</td>\n",
       "      <td>0.845020</td>\n",
       "      <td>0.816763</td>\n",
       "    </tr>\n",
       "    <tr>\n",
       "      <th>COV2-2832</th>\n",
       "      <td>0.940466</td>\n",
       "      <td>0.752408</td>\n",
       "      <td>0.781935</td>\n",
       "      <td>0.765569</td>\n",
       "    </tr>\n",
       "    <tr>\n",
       "      <th>COV2-2094</th>\n",
       "      <td>0.873981</td>\n",
       "      <td>0.699426</td>\n",
       "      <td>0.797706</td>\n",
       "      <td>0.732403</td>\n",
       "    </tr>\n",
       "    <tr>\n",
       "      <th>COV2-2050</th>\n",
       "      <td>0.879417</td>\n",
       "      <td>0.663110</td>\n",
       "      <td>0.791520</td>\n",
       "      <td>0.699709</td>\n",
       "    </tr>\n",
       "    <tr>\n",
       "      <th>COV2-2677</th>\n",
       "      <td>0.905342</td>\n",
       "      <td>0.743955</td>\n",
       "      <td>0.867620</td>\n",
       "      <td>0.786642</td>\n",
       "    </tr>\n",
       "    <tr>\n",
       "      <th>COV2-2479</th>\n",
       "      <td>0.873197</td>\n",
       "      <td>0.587098</td>\n",
       "      <td>0.713696</td>\n",
       "      <td>0.610701</td>\n",
       "    </tr>\n",
       "    <tr>\n",
       "      <th>COV2-2165</th>\n",
       "      <td>0.880671</td>\n",
       "      <td>0.575018</td>\n",
       "      <td>0.702941</td>\n",
       "      <td>0.596479</td>\n",
       "    </tr>\n",
       "    <tr>\n",
       "      <th>COV2-2499</th>\n",
       "      <td>0.919298</td>\n",
       "      <td>0.854127</td>\n",
       "      <td>0.876338</td>\n",
       "      <td>0.864510</td>\n",
       "    </tr>\n",
       "  </tbody>\n",
       "</table>\n",
       "</div>"
      ],
      "text/plain": [
       "           Accuracy  Precision    Recall        F1\n",
       "Task                                              \n",
       "ACE2       0.809115   0.624695  0.806465  0.645141\n",
       "COV2-2096  0.881665   0.796557  0.845020  0.816763\n",
       "COV2-2832  0.940466   0.752408  0.781935  0.765569\n",
       "COV2-2094  0.873981   0.699426  0.797706  0.732403\n",
       "COV2-2050  0.879417   0.663110  0.791520  0.699709\n",
       "COV2-2677  0.905342   0.743955  0.867620  0.786642\n",
       "COV2-2479  0.873197   0.587098  0.713696  0.610701\n",
       "COV2-2165  0.880671   0.575018  0.702941  0.596479\n",
       "COV2-2499  0.919298   0.854127  0.876338  0.864510"
      ]
     },
     "execution_count": 11,
     "metadata": {},
     "output_type": "execute_result"
    }
   ],
   "source": [
    "aug_metric"
   ]
  },
  {
   "cell_type": "code",
   "execution_count": 12,
   "metadata": {},
   "outputs": [],
   "source": [
    "fold=[0]*9+[1]*9+[2]*9+[3]*9+[4]*9"
   ]
  },
  {
   "cell_type": "code",
   "execution_count": 13,
   "metadata": {},
   "outputs": [],
   "source": [
    "aug_metric_all=pd.DataFrame({\"task\":task.to_list()*5,\"fold\":fold})"
   ]
  },
  {
   "cell_type": "code",
   "execution_count": 14,
   "metadata": {},
   "outputs": [],
   "source": [
    "aug_metric_all[\"Accuracy\"]=aug_result.iloc[0,:].to_numpy()\n",
    "aug_metric_all[\"Precision\"]=aug_result.iloc[1,:].to_numpy()\n",
    "aug_metric_all[\"Recall\"]=aug_result.iloc[2,:].to_numpy()\n",
    "aug_metric_all[\"F1\"]=aug_result.iloc[3,:].to_numpy()"
   ]
  },
  {
   "cell_type": "code",
   "execution_count": 15,
   "metadata": {},
   "outputs": [
    {
     "data": {
      "text/html": [
       "<div>\n",
       "<style scoped>\n",
       "    .dataframe tbody tr th:only-of-type {\n",
       "        vertical-align: middle;\n",
       "    }\n",
       "\n",
       "    .dataframe tbody tr th {\n",
       "        vertical-align: top;\n",
       "    }\n",
       "\n",
       "    .dataframe thead th {\n",
       "        text-align: right;\n",
       "    }\n",
       "</style>\n",
       "<table border=\"1\" class=\"dataframe\">\n",
       "  <thead>\n",
       "    <tr style=\"text-align: right;\">\n",
       "      <th></th>\n",
       "      <th>task</th>\n",
       "      <th>fold</th>\n",
       "      <th>Accuracy</th>\n",
       "      <th>Precision</th>\n",
       "      <th>Recall</th>\n",
       "      <th>F1</th>\n",
       "    </tr>\n",
       "  </thead>\n",
       "  <tbody>\n",
       "    <tr>\n",
       "      <th>0</th>\n",
       "      <td>ACE2</td>\n",
       "      <td>0</td>\n",
       "      <td>0.829370</td>\n",
       "      <td>0.635236</td>\n",
       "      <td>0.828069</td>\n",
       "      <td>0.663230</td>\n",
       "    </tr>\n",
       "    <tr>\n",
       "      <th>1</th>\n",
       "      <td>COV2-2096</td>\n",
       "      <td>0</td>\n",
       "      <td>0.874575</td>\n",
       "      <td>0.783127</td>\n",
       "      <td>0.839146</td>\n",
       "      <td>0.805656</td>\n",
       "    </tr>\n",
       "    <tr>\n",
       "      <th>2</th>\n",
       "      <td>COV2-2832</td>\n",
       "      <td>0</td>\n",
       "      <td>0.940946</td>\n",
       "      <td>0.740764</td>\n",
       "      <td>0.764005</td>\n",
       "      <td>0.751725</td>\n",
       "    </tr>\n",
       "    <tr>\n",
       "      <th>3</th>\n",
       "      <td>COV2-2094</td>\n",
       "      <td>0</td>\n",
       "      <td>0.873008</td>\n",
       "      <td>0.706453</td>\n",
       "      <td>0.812370</td>\n",
       "      <td>0.741231</td>\n",
       "    </tr>\n",
       "    <tr>\n",
       "      <th>4</th>\n",
       "      <td>COV2-2050</td>\n",
       "      <td>0</td>\n",
       "      <td>0.879540</td>\n",
       "      <td>0.663174</td>\n",
       "      <td>0.801393</td>\n",
       "      <td>0.701380</td>\n",
       "    </tr>\n",
       "  </tbody>\n",
       "</table>\n",
       "</div>"
      ],
      "text/plain": [
       "        task  fold  Accuracy  Precision    Recall        F1\n",
       "0       ACE2     0  0.829370   0.635236  0.828069  0.663230\n",
       "1  COV2-2096     0  0.874575   0.783127  0.839146  0.805656\n",
       "2  COV2-2832     0  0.940946   0.740764  0.764005  0.751725\n",
       "3  COV2-2094     0  0.873008   0.706453  0.812370  0.741231\n",
       "4  COV2-2050     0  0.879540   0.663174  0.801393  0.701380"
      ]
     },
     "execution_count": 15,
     "metadata": {},
     "output_type": "execute_result"
    }
   ],
   "source": [
    "aug_metric_all.head()"
   ]
  },
  {
   "cell_type": "markdown",
   "metadata": {},
   "source": [
    "### eunirep model"
   ]
  },
  {
   "cell_type": "code",
   "execution_count": 16,
   "metadata": {},
   "outputs": [],
   "source": [
    "eunirep_result=pd.read_csv('../result/results_eunirep.csv')"
   ]
  },
  {
   "cell_type": "code",
   "execution_count": 18,
   "metadata": {},
   "outputs": [],
   "source": [
    "task=metric.index\n",
    "eunirep_metric=pd.DataFrame(index=task)"
   ]
  },
  {
   "cell_type": "code",
   "execution_count": 19,
   "metadata": {},
   "outputs": [],
   "source": [
    "eunirep_metric[\"Accuracy\"]=eunirep_result.iloc[0,:].to_numpy().reshape(5,9).mean(axis=0)\n",
    "eunirep_metric[\"Precision\"]=eunirep_result.iloc[1,:].to_numpy().reshape(5,9).mean(axis=0)\n",
    "eunirep_metric[\"Recall\"]=eunirep_result.iloc[2,:].to_numpy().reshape(5,9).mean(axis=0)\n",
    "eunirep_metric[\"F1\"]=eunirep_result.iloc[3,:].to_numpy().reshape(5,9).mean(axis=0)"
   ]
  },
  {
   "cell_type": "code",
   "execution_count": 20,
   "metadata": {},
   "outputs": [
    {
     "data": {
      "text/html": [
       "<div>\n",
       "<style scoped>\n",
       "    .dataframe tbody tr th:only-of-type {\n",
       "        vertical-align: middle;\n",
       "    }\n",
       "\n",
       "    .dataframe tbody tr th {\n",
       "        vertical-align: top;\n",
       "    }\n",
       "\n",
       "    .dataframe thead th {\n",
       "        text-align: right;\n",
       "    }\n",
       "</style>\n",
       "<table border=\"1\" class=\"dataframe\">\n",
       "  <thead>\n",
       "    <tr style=\"text-align: right;\">\n",
       "      <th></th>\n",
       "      <th>Accuracy</th>\n",
       "      <th>Precision</th>\n",
       "      <th>Recall</th>\n",
       "      <th>F1</th>\n",
       "    </tr>\n",
       "    <tr>\n",
       "      <th>Task</th>\n",
       "      <th></th>\n",
       "      <th></th>\n",
       "      <th></th>\n",
       "      <th></th>\n",
       "    </tr>\n",
       "  </thead>\n",
       "  <tbody>\n",
       "    <tr>\n",
       "      <th>ACE2</th>\n",
       "      <td>0.686815</td>\n",
       "      <td>0.551238</td>\n",
       "      <td>0.695281</td>\n",
       "      <td>0.505625</td>\n",
       "    </tr>\n",
       "    <tr>\n",
       "      <th>COV2-2096</th>\n",
       "      <td>0.855530</td>\n",
       "      <td>0.760493</td>\n",
       "      <td>0.818070</td>\n",
       "      <td>0.782557</td>\n",
       "    </tr>\n",
       "    <tr>\n",
       "      <th>COV2-2832</th>\n",
       "      <td>0.876854</td>\n",
       "      <td>0.635722</td>\n",
       "      <td>0.776875</td>\n",
       "      <td>0.669790</td>\n",
       "    </tr>\n",
       "    <tr>\n",
       "      <th>COV2-2094</th>\n",
       "      <td>0.842620</td>\n",
       "      <td>0.665886</td>\n",
       "      <td>0.785607</td>\n",
       "      <td>0.696828</td>\n",
       "    </tr>\n",
       "    <tr>\n",
       "      <th>COV2-2050</th>\n",
       "      <td>0.869905</td>\n",
       "      <td>0.652796</td>\n",
       "      <td>0.778647</td>\n",
       "      <td>0.685702</td>\n",
       "    </tr>\n",
       "    <tr>\n",
       "      <th>COV2-2677</th>\n",
       "      <td>0.876699</td>\n",
       "      <td>0.702769</td>\n",
       "      <td>0.845312</td>\n",
       "      <td>0.743867</td>\n",
       "    </tr>\n",
       "    <tr>\n",
       "      <th>COV2-2479</th>\n",
       "      <td>0.691053</td>\n",
       "      <td>0.543608</td>\n",
       "      <td>0.666423</td>\n",
       "      <td>0.490176</td>\n",
       "    </tr>\n",
       "    <tr>\n",
       "      <th>COV2-2165</th>\n",
       "      <td>0.791040</td>\n",
       "      <td>0.570381</td>\n",
       "      <td>0.662546</td>\n",
       "      <td>0.537167</td>\n",
       "    </tr>\n",
       "    <tr>\n",
       "      <th>COV2-2499</th>\n",
       "      <td>0.887728</td>\n",
       "      <td>0.799976</td>\n",
       "      <td>0.850170</td>\n",
       "      <td>0.820999</td>\n",
       "    </tr>\n",
       "  </tbody>\n",
       "</table>\n",
       "</div>"
      ],
      "text/plain": [
       "           Accuracy  Precision    Recall        F1\n",
       "Task                                              \n",
       "ACE2       0.686815   0.551238  0.695281  0.505625\n",
       "COV2-2096  0.855530   0.760493  0.818070  0.782557\n",
       "COV2-2832  0.876854   0.635722  0.776875  0.669790\n",
       "COV2-2094  0.842620   0.665886  0.785607  0.696828\n",
       "COV2-2050  0.869905   0.652796  0.778647  0.685702\n",
       "COV2-2677  0.876699   0.702769  0.845312  0.743867\n",
       "COV2-2479  0.691053   0.543608  0.666423  0.490176\n",
       "COV2-2165  0.791040   0.570381  0.662546  0.537167\n",
       "COV2-2499  0.887728   0.799976  0.850170  0.820999"
      ]
     },
     "execution_count": 20,
     "metadata": {},
     "output_type": "execute_result"
    }
   ],
   "source": [
    "eunirep_metric"
   ]
  },
  {
   "cell_type": "code",
   "execution_count": 21,
   "metadata": {},
   "outputs": [],
   "source": [
    "eunirep_metric_all=pd.DataFrame({\"task\":task.to_list()*5,\"fold\":fold})"
   ]
  },
  {
   "cell_type": "code",
   "execution_count": 22,
   "metadata": {},
   "outputs": [],
   "source": [
    "eunirep_metric_all[\"Accuracy\"]=eunirep_result.iloc[0,:].to_numpy()\n",
    "eunirep_metric_all[\"Precision\"]=eunirep_result.iloc[1,:].to_numpy()\n",
    "eunirep_metric_all[\"Recall\"]=eunirep_result.iloc[2,:].to_numpy()\n",
    "eunirep_metric_all[\"F1\"]=eunirep_result.iloc[3,:].to_numpy()"
   ]
  },
  {
   "cell_type": "code",
   "execution_count": 23,
   "metadata": {},
   "outputs": [
    {
     "data": {
      "text/html": [
       "<div>\n",
       "<style scoped>\n",
       "    .dataframe tbody tr th:only-of-type {\n",
       "        vertical-align: middle;\n",
       "    }\n",
       "\n",
       "    .dataframe tbody tr th {\n",
       "        vertical-align: top;\n",
       "    }\n",
       "\n",
       "    .dataframe thead th {\n",
       "        text-align: right;\n",
       "    }\n",
       "</style>\n",
       "<table border=\"1\" class=\"dataframe\">\n",
       "  <thead>\n",
       "    <tr style=\"text-align: right;\">\n",
       "      <th></th>\n",
       "      <th>task</th>\n",
       "      <th>fold</th>\n",
       "      <th>Accuracy</th>\n",
       "      <th>Precision</th>\n",
       "      <th>Recall</th>\n",
       "      <th>F1</th>\n",
       "    </tr>\n",
       "  </thead>\n",
       "  <tbody>\n",
       "    <tr>\n",
       "      <th>0</th>\n",
       "      <td>ACE2</td>\n",
       "      <td>0</td>\n",
       "      <td>0.628168</td>\n",
       "      <td>0.570600</td>\n",
       "      <td>0.744043</td>\n",
       "      <td>0.508896</td>\n",
       "    </tr>\n",
       "    <tr>\n",
       "      <th>1</th>\n",
       "      <td>COV2-2096</td>\n",
       "      <td>0</td>\n",
       "      <td>0.858375</td>\n",
       "      <td>0.761678</td>\n",
       "      <td>0.826416</td>\n",
       "      <td>0.785861</td>\n",
       "    </tr>\n",
       "    <tr>\n",
       "      <th>2</th>\n",
       "      <td>COV2-2832</td>\n",
       "      <td>0</td>\n",
       "      <td>0.898354</td>\n",
       "      <td>0.645838</td>\n",
       "      <td>0.759570</td>\n",
       "      <td>0.680558</td>\n",
       "    </tr>\n",
       "    <tr>\n",
       "      <th>3</th>\n",
       "      <td>COV2-2094</td>\n",
       "      <td>0</td>\n",
       "      <td>0.837993</td>\n",
       "      <td>0.667619</td>\n",
       "      <td>0.788501</td>\n",
       "      <td>0.698121</td>\n",
       "    </tr>\n",
       "    <tr>\n",
       "      <th>4</th>\n",
       "      <td>COV2-2050</td>\n",
       "      <td>0</td>\n",
       "      <td>0.842435</td>\n",
       "      <td>0.631609</td>\n",
       "      <td>0.794035</td>\n",
       "      <td>0.661488</td>\n",
       "    </tr>\n",
       "  </tbody>\n",
       "</table>\n",
       "</div>"
      ],
      "text/plain": [
       "        task  fold  Accuracy  Precision    Recall        F1\n",
       "0       ACE2     0  0.628168   0.570600  0.744043  0.508896\n",
       "1  COV2-2096     0  0.858375   0.761678  0.826416  0.785861\n",
       "2  COV2-2832     0  0.898354   0.645838  0.759570  0.680558\n",
       "3  COV2-2094     0  0.837993   0.667619  0.788501  0.698121\n",
       "4  COV2-2050     0  0.842435   0.631609  0.794035  0.661488"
      ]
     },
     "execution_count": 23,
     "metadata": {},
     "output_type": "execute_result"
    }
   ],
   "source": [
    "eunirep_metric_all.head()"
   ]
  },
  {
   "cell_type": "markdown",
   "metadata": {},
   "source": [
    "### gunirep model"
   ]
  },
  {
   "cell_type": "code",
   "execution_count": 24,
   "metadata": {},
   "outputs": [],
   "source": [
    "gunirep_result=pd.read_csv('../result/results_gunirep.csv')"
   ]
  },
  {
   "cell_type": "code",
   "execution_count": 25,
   "metadata": {},
   "outputs": [],
   "source": [
    "gunirep_metric=pd.DataFrame(index=task)"
   ]
  },
  {
   "cell_type": "code",
   "execution_count": 26,
   "metadata": {},
   "outputs": [],
   "source": [
    "gunirep_metric[\"Accuracy\"]=gunirep_result.iloc[0,:].to_numpy().reshape(5,9).mean(axis=0)\n",
    "gunirep_metric[\"Precision\"]=gunirep_result.iloc[1,:].to_numpy().reshape(5,9).mean(axis=0)\n",
    "gunirep_metric[\"Recall\"]=gunirep_result.iloc[2,:].to_numpy().reshape(5,9).mean(axis=0)\n",
    "gunirep_metric[\"F1\"]=gunirep_result.iloc[3,:].to_numpy().reshape(5,9).mean(axis=0)"
   ]
  },
  {
   "cell_type": "code",
   "execution_count": 27,
   "metadata": {},
   "outputs": [
    {
     "data": {
      "text/html": [
       "<div>\n",
       "<style scoped>\n",
       "    .dataframe tbody tr th:only-of-type {\n",
       "        vertical-align: middle;\n",
       "    }\n",
       "\n",
       "    .dataframe tbody tr th {\n",
       "        vertical-align: top;\n",
       "    }\n",
       "\n",
       "    .dataframe thead th {\n",
       "        text-align: right;\n",
       "    }\n",
       "</style>\n",
       "<table border=\"1\" class=\"dataframe\">\n",
       "  <thead>\n",
       "    <tr style=\"text-align: right;\">\n",
       "      <th></th>\n",
       "      <th>Accuracy</th>\n",
       "      <th>Precision</th>\n",
       "      <th>Recall</th>\n",
       "      <th>F1</th>\n",
       "    </tr>\n",
       "    <tr>\n",
       "      <th>Task</th>\n",
       "      <th></th>\n",
       "      <th></th>\n",
       "      <th></th>\n",
       "      <th></th>\n",
       "    </tr>\n",
       "  </thead>\n",
       "  <tbody>\n",
       "    <tr>\n",
       "      <th>ACE2</th>\n",
       "      <td>0.728670</td>\n",
       "      <td>0.584207</td>\n",
       "      <td>0.740082</td>\n",
       "      <td>0.570541</td>\n",
       "    </tr>\n",
       "    <tr>\n",
       "      <th>COV2-2096</th>\n",
       "      <td>0.829030</td>\n",
       "      <td>0.727710</td>\n",
       "      <td>0.789920</td>\n",
       "      <td>0.749259</td>\n",
       "    </tr>\n",
       "    <tr>\n",
       "      <th>COV2-2832</th>\n",
       "      <td>0.869276</td>\n",
       "      <td>0.624465</td>\n",
       "      <td>0.764288</td>\n",
       "      <td>0.656338</td>\n",
       "    </tr>\n",
       "    <tr>\n",
       "      <th>COV2-2094</th>\n",
       "      <td>0.826730</td>\n",
       "      <td>0.648848</td>\n",
       "      <td>0.766146</td>\n",
       "      <td>0.675571</td>\n",
       "    </tr>\n",
       "    <tr>\n",
       "      <th>COV2-2050</th>\n",
       "      <td>0.830337</td>\n",
       "      <td>0.615388</td>\n",
       "      <td>0.755263</td>\n",
       "      <td>0.639273</td>\n",
       "    </tr>\n",
       "    <tr>\n",
       "      <th>COV2-2677</th>\n",
       "      <td>0.865043</td>\n",
       "      <td>0.689376</td>\n",
       "      <td>0.836194</td>\n",
       "      <td>0.728235</td>\n",
       "    </tr>\n",
       "    <tr>\n",
       "      <th>COV2-2479</th>\n",
       "      <td>0.760610</td>\n",
       "      <td>0.553142</td>\n",
       "      <td>0.680207</td>\n",
       "      <td>0.532647</td>\n",
       "    </tr>\n",
       "    <tr>\n",
       "      <th>COV2-2165</th>\n",
       "      <td>0.603643</td>\n",
       "      <td>0.562774</td>\n",
       "      <td>0.583587</td>\n",
       "      <td>0.389988</td>\n",
       "    </tr>\n",
       "    <tr>\n",
       "      <th>COV2-2499</th>\n",
       "      <td>0.852447</td>\n",
       "      <td>0.749601</td>\n",
       "      <td>0.804442</td>\n",
       "      <td>0.770781</td>\n",
       "    </tr>\n",
       "  </tbody>\n",
       "</table>\n",
       "</div>"
      ],
      "text/plain": [
       "           Accuracy  Precision    Recall        F1\n",
       "Task                                              \n",
       "ACE2       0.728670   0.584207  0.740082  0.570541\n",
       "COV2-2096  0.829030   0.727710  0.789920  0.749259\n",
       "COV2-2832  0.869276   0.624465  0.764288  0.656338\n",
       "COV2-2094  0.826730   0.648848  0.766146  0.675571\n",
       "COV2-2050  0.830337   0.615388  0.755263  0.639273\n",
       "COV2-2677  0.865043   0.689376  0.836194  0.728235\n",
       "COV2-2479  0.760610   0.553142  0.680207  0.532647\n",
       "COV2-2165  0.603643   0.562774  0.583587  0.389988\n",
       "COV2-2499  0.852447   0.749601  0.804442  0.770781"
      ]
     },
     "execution_count": 27,
     "metadata": {},
     "output_type": "execute_result"
    }
   ],
   "source": [
    "gunirep_metric"
   ]
  },
  {
   "cell_type": "code",
   "execution_count": 28,
   "metadata": {},
   "outputs": [],
   "source": [
    "gunirep_metric_all=pd.DataFrame({\"task\":task.to_list()*5,\"fold\":fold})"
   ]
  },
  {
   "cell_type": "code",
   "execution_count": 29,
   "metadata": {},
   "outputs": [],
   "source": [
    "gunirep_metric_all[\"Accuracy\"]=gunirep_result.iloc[0,:].to_numpy()\n",
    "gunirep_metric_all[\"Precision\"]=gunirep_result.iloc[1,:].to_numpy()\n",
    "gunirep_metric_all[\"Recall\"]=gunirep_result.iloc[2,:].to_numpy()\n",
    "gunirep_metric_all[\"F1\"]=gunirep_result.iloc[3,:].to_numpy()"
   ]
  },
  {
   "cell_type": "markdown",
   "metadata": {},
   "source": [
    "### Esm1b embeddings"
   ]
  },
  {
   "cell_type": "code",
   "execution_count": 31,
   "metadata": {},
   "outputs": [],
   "source": [
    "no_freeze=pd.read_csv('../results/results_esm_embeddings.csv')"
   ]
  },
  {
   "cell_type": "code",
   "execution_count": 33,
   "metadata": {},
   "outputs": [],
   "source": [
    "no_freeze=no_freeze.to_numpy().reshape(5,9,4)\n",
    "no_freeze_metric=pd.DataFrame(index=task)"
   ]
  },
  {
   "cell_type": "code",
   "execution_count": 34,
   "metadata": {},
   "outputs": [],
   "source": [
    "no_freeze_metric[\"Accuracy\"]=no_freeze[:,:,0].mean(axis=0)\n",
    "no_freeze_metric[\"Precision\"]=no_freeze[:,:,1].mean(axis=0)\n",
    "no_freeze_metric[\"Recall\"]=no_freeze[:,:,2].mean(axis=0)\n",
    "no_freeze_metric[\"F1\"]=no_freeze[:,:,3].mean(axis=0)"
   ]
  },
  {
   "cell_type": "code",
   "execution_count": 35,
   "metadata": {},
   "outputs": [
    {
     "data": {
      "text/html": [
       "<div>\n",
       "<style scoped>\n",
       "    .dataframe tbody tr th:only-of-type {\n",
       "        vertical-align: middle;\n",
       "    }\n",
       "\n",
       "    .dataframe tbody tr th {\n",
       "        vertical-align: top;\n",
       "    }\n",
       "\n",
       "    .dataframe thead th {\n",
       "        text-align: right;\n",
       "    }\n",
       "</style>\n",
       "<table border=\"1\" class=\"dataframe\">\n",
       "  <thead>\n",
       "    <tr style=\"text-align: right;\">\n",
       "      <th></th>\n",
       "      <th>Accuracy</th>\n",
       "      <th>Precision</th>\n",
       "      <th>Recall</th>\n",
       "      <th>F1</th>\n",
       "    </tr>\n",
       "    <tr>\n",
       "      <th>Task</th>\n",
       "      <th></th>\n",
       "      <th></th>\n",
       "      <th></th>\n",
       "      <th></th>\n",
       "    </tr>\n",
       "  </thead>\n",
       "  <tbody>\n",
       "    <tr>\n",
       "      <th>ACE2</th>\n",
       "      <td>0.919507</td>\n",
       "      <td>0.459753</td>\n",
       "      <td>0.500000</td>\n",
       "      <td>0.479028</td>\n",
       "    </tr>\n",
       "    <tr>\n",
       "      <th>COV2-2096</th>\n",
       "      <td>0.843979</td>\n",
       "      <td>0.858514</td>\n",
       "      <td>0.580792</td>\n",
       "      <td>0.596382</td>\n",
       "    </tr>\n",
       "    <tr>\n",
       "      <th>COV2-2832</th>\n",
       "      <td>0.938114</td>\n",
       "      <td>0.968999</td>\n",
       "      <td>0.514759</td>\n",
       "      <td>0.512667</td>\n",
       "    </tr>\n",
       "    <tr>\n",
       "      <th>COV2-2094</th>\n",
       "      <td>0.896666</td>\n",
       "      <td>0.851273</td>\n",
       "      <td>0.507290</td>\n",
       "      <td>0.487414</td>\n",
       "    </tr>\n",
       "    <tr>\n",
       "      <th>COV2-2050</th>\n",
       "      <td>0.926301</td>\n",
       "      <td>0.963030</td>\n",
       "      <td>0.521485</td>\n",
       "      <td>0.521886</td>\n",
       "    </tr>\n",
       "    <tr>\n",
       "      <th>COV2-2677</th>\n",
       "      <td>0.908321</td>\n",
       "      <td>0.886260</td>\n",
       "      <td>0.533117</td>\n",
       "      <td>0.538237</td>\n",
       "    </tr>\n",
       "    <tr>\n",
       "      <th>COV2-2479</th>\n",
       "      <td>0.951495</td>\n",
       "      <td>0.575746</td>\n",
       "      <td>0.500559</td>\n",
       "      <td>0.488682</td>\n",
       "    </tr>\n",
       "    <tr>\n",
       "      <th>COV2-2165</th>\n",
       "      <td>0.959231</td>\n",
       "      <td>0.479615</td>\n",
       "      <td>0.500000</td>\n",
       "      <td>0.489595</td>\n",
       "    </tr>\n",
       "    <tr>\n",
       "      <th>COV2-2499</th>\n",
       "      <td>0.857882</td>\n",
       "      <td>0.892690</td>\n",
       "      <td>0.599827</td>\n",
       "      <td>0.626789</td>\n",
       "    </tr>\n",
       "  </tbody>\n",
       "</table>\n",
       "</div>"
      ],
      "text/plain": [
       "           Accuracy  Precision    Recall        F1\n",
       "Task                                              \n",
       "ACE2       0.919507   0.459753  0.500000  0.479028\n",
       "COV2-2096  0.843979   0.858514  0.580792  0.596382\n",
       "COV2-2832  0.938114   0.968999  0.514759  0.512667\n",
       "COV2-2094  0.896666   0.851273  0.507290  0.487414\n",
       "COV2-2050  0.926301   0.963030  0.521485  0.521886\n",
       "COV2-2677  0.908321   0.886260  0.533117  0.538237\n",
       "COV2-2479  0.951495   0.575746  0.500559  0.488682\n",
       "COV2-2165  0.959231   0.479615  0.500000  0.489595\n",
       "COV2-2499  0.857882   0.892690  0.599827  0.626789"
      ]
     },
     "execution_count": 35,
     "metadata": {},
     "output_type": "execute_result"
    }
   ],
   "source": [
    "no_freeze_metric"
   ]
  },
  {
   "cell_type": "code",
   "execution_count": 36,
   "metadata": {},
   "outputs": [],
   "source": [
    "fold=[0]*9+[1]*9+[2]*9+[3]*9+[4]*9"
   ]
  },
  {
   "cell_type": "code",
   "execution_count": 37,
   "metadata": {},
   "outputs": [],
   "source": [
    "no_freeze_metric_all=pd.DataFrame({\"task\":task.to_list()*5,\"fold\":fold})"
   ]
  },
  {
   "cell_type": "code",
   "execution_count": 38,
   "metadata": {},
   "outputs": [],
   "source": [
    "no_freeze_metric_all[\"Accuracy\"]=no_freeze[:,:,0].flatten()\n",
    "no_freeze_metric_all[\"Precision\"]=no_freeze[:,:,1].flatten()\n",
    "no_freeze_metric_all[\"Recall\"]=no_freeze[:,:,2].flatten()\n",
    "no_freeze_metric_all[\"F1\"]=no_freeze[:,:,3].flatten()"
   ]
  },
  {
   "cell_type": "code",
   "execution_count": 39,
   "metadata": {},
   "outputs": [
    {
     "data": {
      "text/html": [
       "<div>\n",
       "<style scoped>\n",
       "    .dataframe tbody tr th:only-of-type {\n",
       "        vertical-align: middle;\n",
       "    }\n",
       "\n",
       "    .dataframe tbody tr th {\n",
       "        vertical-align: top;\n",
       "    }\n",
       "\n",
       "    .dataframe thead th {\n",
       "        text-align: right;\n",
       "    }\n",
       "</style>\n",
       "<table border=\"1\" class=\"dataframe\">\n",
       "  <thead>\n",
       "    <tr style=\"text-align: right;\">\n",
       "      <th></th>\n",
       "      <th>task</th>\n",
       "      <th>fold</th>\n",
       "      <th>Accuracy</th>\n",
       "      <th>Precision</th>\n",
       "      <th>Recall</th>\n",
       "      <th>F1</th>\n",
       "    </tr>\n",
       "  </thead>\n",
       "  <tbody>\n",
       "    <tr>\n",
       "      <th>0</th>\n",
       "      <td>ACE2</td>\n",
       "      <td>0</td>\n",
       "      <td>0.923177</td>\n",
       "      <td>0.461589</td>\n",
       "      <td>0.500000</td>\n",
       "      <td>0.480027</td>\n",
       "    </tr>\n",
       "    <tr>\n",
       "      <th>1</th>\n",
       "      <td>COV2-2096</td>\n",
       "      <td>0</td>\n",
       "      <td>0.847400</td>\n",
       "      <td>0.867015</td>\n",
       "      <td>0.579273</td>\n",
       "      <td>0.595077</td>\n",
       "    </tr>\n",
       "    <tr>\n",
       "      <th>2</th>\n",
       "      <td>COV2-2832</td>\n",
       "      <td>0</td>\n",
       "      <td>0.941469</td>\n",
       "      <td>0.970681</td>\n",
       "      <td>0.515152</td>\n",
       "      <td>0.514309</td>\n",
       "    </tr>\n",
       "    <tr>\n",
       "      <th>3</th>\n",
       "      <td>COV2-2094</td>\n",
       "      <td>0</td>\n",
       "      <td>0.893650</td>\n",
       "      <td>0.946714</td>\n",
       "      <td>0.509639</td>\n",
       "      <td>0.490770</td>\n",
       "    </tr>\n",
       "    <tr>\n",
       "      <th>4</th>\n",
       "      <td>COV2-2050</td>\n",
       "      <td>0</td>\n",
       "      <td>0.929187</td>\n",
       "      <td>0.964426</td>\n",
       "      <td>0.531142</td>\n",
       "      <td>0.540189</td>\n",
       "    </tr>\n",
       "  </tbody>\n",
       "</table>\n",
       "</div>"
      ],
      "text/plain": [
       "        task  fold  Accuracy  Precision    Recall        F1\n",
       "0       ACE2     0  0.923177   0.461589  0.500000  0.480027\n",
       "1  COV2-2096     0  0.847400   0.867015  0.579273  0.595077\n",
       "2  COV2-2832     0  0.941469   0.970681  0.515152  0.514309\n",
       "3  COV2-2094     0  0.893650   0.946714  0.509639  0.490770\n",
       "4  COV2-2050     0  0.929187   0.964426  0.531142  0.540189"
      ]
     },
     "execution_count": 39,
     "metadata": {},
     "output_type": "execute_result"
    }
   ],
   "source": [
    "no_freeze_metric_all.head()"
   ]
  },
  {
   "cell_type": "markdown",
   "metadata": {},
   "source": [
    "### Esm1b finetuning with random noise"
   ]
  },
  {
   "cell_type": "code",
   "execution_count": 40,
   "metadata": {},
   "outputs": [],
   "source": [
    "dir='../result/baseline/esm_no_GCN/'"
   ]
  },
  {
   "cell_type": "code",
   "execution_count": 42,
   "metadata": {},
   "outputs": [
    {
     "name": "stdout",
     "output_type": "stream",
     "text": [
      "The best epoch is  30.1\n",
      "The best epoch is  28.42\n",
      "The best epoch is  29.57\n",
      "The best epoch is  29.37\n",
      "The best epoch is  28.94\n"
     ]
    }
   ],
   "source": [
    "rand_noise=np.concatenate((([parse_json_epoch(dir,3000,0,30)],[parse_json_epoch(dir,3000,1,30)],[parse_json_epoch(dir,3000,2,30)],[parse_json_epoch(dir,3000,3,30)],[parse_json_epoch(dir,3000,4,30)])))"
   ]
  },
  {
   "cell_type": "code",
   "execution_count": 43,
   "metadata": {},
   "outputs": [],
   "source": [
    "rand_noise_mean=rand_noise.mean(axis=0)"
   ]
  },
  {
   "cell_type": "code",
   "execution_count": 44,
   "metadata": {},
   "outputs": [],
   "source": [
    "rand_noise_metric=pd.DataFrame(index=task)"
   ]
  },
  {
   "cell_type": "code",
   "execution_count": 45,
   "metadata": {},
   "outputs": [],
   "source": [
    "rand_noise_metric[\"Accuracy\"]=rand_noise_mean[0]\n",
    "rand_noise_metric[\"Precision\"]=rand_noise_mean[2]\n",
    "rand_noise_metric[\"Recall\"]=rand_noise_mean[3]\n",
    "rand_noise_metric[\"F1\"]=rand_noise_mean[1]"
   ]
  },
  {
   "cell_type": "code",
   "execution_count": 46,
   "metadata": {},
   "outputs": [
    {
     "data": {
      "text/html": [
       "<div>\n",
       "<style scoped>\n",
       "    .dataframe tbody tr th:only-of-type {\n",
       "        vertical-align: middle;\n",
       "    }\n",
       "\n",
       "    .dataframe tbody tr th {\n",
       "        vertical-align: top;\n",
       "    }\n",
       "\n",
       "    .dataframe thead th {\n",
       "        text-align: right;\n",
       "    }\n",
       "</style>\n",
       "<table border=\"1\" class=\"dataframe\">\n",
       "  <thead>\n",
       "    <tr style=\"text-align: right;\">\n",
       "      <th></th>\n",
       "      <th>Accuracy</th>\n",
       "      <th>Precision</th>\n",
       "      <th>Recall</th>\n",
       "      <th>F1</th>\n",
       "    </tr>\n",
       "    <tr>\n",
       "      <th>Task</th>\n",
       "      <th></th>\n",
       "      <th></th>\n",
       "      <th></th>\n",
       "      <th></th>\n",
       "    </tr>\n",
       "  </thead>\n",
       "  <tbody>\n",
       "    <tr>\n",
       "      <th>ACE2</th>\n",
       "      <td>0.892379</td>\n",
       "      <td>0.481902</td>\n",
       "      <td>0.493245</td>\n",
       "      <td>0.483834</td>\n",
       "    </tr>\n",
       "    <tr>\n",
       "      <th>COV2-2096</th>\n",
       "      <td>0.866353</td>\n",
       "      <td>0.779415</td>\n",
       "      <td>0.811764</td>\n",
       "      <td>0.791683</td>\n",
       "    </tr>\n",
       "    <tr>\n",
       "      <th>COV2-2832</th>\n",
       "      <td>0.919925</td>\n",
       "      <td>0.627765</td>\n",
       "      <td>0.588773</td>\n",
       "      <td>0.602909</td>\n",
       "    </tr>\n",
       "    <tr>\n",
       "      <th>COV2-2094</th>\n",
       "      <td>0.882867</td>\n",
       "      <td>0.664597</td>\n",
       "      <td>0.614235</td>\n",
       "      <td>0.630922</td>\n",
       "    </tr>\n",
       "    <tr>\n",
       "      <th>COV2-2050</th>\n",
       "      <td>0.932782</td>\n",
       "      <td>0.781755</td>\n",
       "      <td>0.687724</td>\n",
       "      <td>0.720912</td>\n",
       "    </tr>\n",
       "    <tr>\n",
       "      <th>COV2-2677</th>\n",
       "      <td>0.915743</td>\n",
       "      <td>0.770838</td>\n",
       "      <td>0.699486</td>\n",
       "      <td>0.723201</td>\n",
       "    </tr>\n",
       "    <tr>\n",
       "      <th>COV2-2479</th>\n",
       "      <td>0.952122</td>\n",
       "      <td>0.743644</td>\n",
       "      <td>0.666326</td>\n",
       "      <td>0.693258</td>\n",
       "    </tr>\n",
       "    <tr>\n",
       "      <th>COV2-2165</th>\n",
       "      <td>0.938688</td>\n",
       "      <td>0.514425</td>\n",
       "      <td>0.506453</td>\n",
       "      <td>0.506409</td>\n",
       "    </tr>\n",
       "    <tr>\n",
       "      <th>COV2-2499</th>\n",
       "      <td>0.869069</td>\n",
       "      <td>0.776607</td>\n",
       "      <td>0.809671</td>\n",
       "      <td>0.788988</td>\n",
       "    </tr>\n",
       "  </tbody>\n",
       "</table>\n",
       "</div>"
      ],
      "text/plain": [
       "           Accuracy  Precision    Recall        F1\n",
       "Task                                              \n",
       "ACE2       0.892379   0.481902  0.493245  0.483834\n",
       "COV2-2096  0.866353   0.779415  0.811764  0.791683\n",
       "COV2-2832  0.919925   0.627765  0.588773  0.602909\n",
       "COV2-2094  0.882867   0.664597  0.614235  0.630922\n",
       "COV2-2050  0.932782   0.781755  0.687724  0.720912\n",
       "COV2-2677  0.915743   0.770838  0.699486  0.723201\n",
       "COV2-2479  0.952122   0.743644  0.666326  0.693258\n",
       "COV2-2165  0.938688   0.514425  0.506453  0.506409\n",
       "COV2-2499  0.869069   0.776607  0.809671  0.788988"
      ]
     },
     "execution_count": 46,
     "metadata": {},
     "output_type": "execute_result"
    }
   ],
   "source": [
    "rand_noise_metric"
   ]
  },
  {
   "cell_type": "code",
   "execution_count": 47,
   "metadata": {},
   "outputs": [],
   "source": [
    "rand_noise_metric_all=pd.DataFrame({\"task\":task.to_list()*5,\"fold\":fold})"
   ]
  },
  {
   "cell_type": "code",
   "execution_count": 48,
   "metadata": {},
   "outputs": [],
   "source": [
    "rand_noise_metric_all[\"Accuracy\"]=rand_noise[:,0,:].flatten()\n",
    "rand_noise_metric_all[\"Precision\"]=rand_noise[:,1,:].flatten()\n",
    "rand_noise_metric_all[\"Recall\"]=rand_noise[:,2,:].flatten()\n",
    "rand_noise_metric_all[\"F1\"]=rand_noise[:,3,:].flatten()"
   ]
  },
  {
   "cell_type": "code",
   "execution_count": 49,
   "metadata": {},
   "outputs": [
    {
     "data": {
      "text/html": [
       "<div>\n",
       "<style scoped>\n",
       "    .dataframe tbody tr th:only-of-type {\n",
       "        vertical-align: middle;\n",
       "    }\n",
       "\n",
       "    .dataframe tbody tr th {\n",
       "        vertical-align: top;\n",
       "    }\n",
       "\n",
       "    .dataframe thead th {\n",
       "        text-align: right;\n",
       "    }\n",
       "</style>\n",
       "<table border=\"1\" class=\"dataframe\">\n",
       "  <thead>\n",
       "    <tr style=\"text-align: right;\">\n",
       "      <th></th>\n",
       "      <th>task</th>\n",
       "      <th>fold</th>\n",
       "      <th>Accuracy</th>\n",
       "      <th>Precision</th>\n",
       "      <th>Recall</th>\n",
       "      <th>F1</th>\n",
       "    </tr>\n",
       "  </thead>\n",
       "  <tbody>\n",
       "    <tr>\n",
       "      <th>0</th>\n",
       "      <td>ACE2</td>\n",
       "      <td>0</td>\n",
       "      <td>0.898876</td>\n",
       "      <td>0.485931</td>\n",
       "      <td>0.484966</td>\n",
       "      <td>0.494094</td>\n",
       "    </tr>\n",
       "    <tr>\n",
       "      <th>1</th>\n",
       "      <td>COV2-2096</td>\n",
       "      <td>0</td>\n",
       "      <td>0.816044</td>\n",
       "      <td>0.731784</td>\n",
       "      <td>0.710285</td>\n",
       "      <td>0.777658</td>\n",
       "    </tr>\n",
       "    <tr>\n",
       "      <th>2</th>\n",
       "      <td>COV2-2832</td>\n",
       "      <td>0</td>\n",
       "      <td>0.917167</td>\n",
       "      <td>0.553298</td>\n",
       "      <td>0.583854</td>\n",
       "      <td>0.542721</td>\n",
       "    </tr>\n",
       "    <tr>\n",
       "      <th>3</th>\n",
       "      <td>COV2-2094</td>\n",
       "      <td>0</td>\n",
       "      <td>0.884766</td>\n",
       "      <td>0.615830</td>\n",
       "      <td>0.669934</td>\n",
       "      <td>0.594197</td>\n",
       "    </tr>\n",
       "    <tr>\n",
       "      <th>4</th>\n",
       "      <td>COV2-2050</td>\n",
       "      <td>0</td>\n",
       "      <td>0.941207</td>\n",
       "      <td>0.722191</td>\n",
       "      <td>0.834053</td>\n",
       "      <td>0.672051</td>\n",
       "    </tr>\n",
       "  </tbody>\n",
       "</table>\n",
       "</div>"
      ],
      "text/plain": [
       "        task  fold  Accuracy  Precision    Recall        F1\n",
       "0       ACE2     0  0.898876   0.485931  0.484966  0.494094\n",
       "1  COV2-2096     0  0.816044   0.731784  0.710285  0.777658\n",
       "2  COV2-2832     0  0.917167   0.553298  0.583854  0.542721\n",
       "3  COV2-2094     0  0.884766   0.615830  0.669934  0.594197\n",
       "4  COV2-2050     0  0.941207   0.722191  0.834053  0.672051"
      ]
     },
     "execution_count": 49,
     "metadata": {},
     "output_type": "execute_result"
    }
   ],
   "source": [
    "rand_noise_metric_all.head()"
   ]
  },
  {
   "cell_type": "markdown",
   "metadata": {},
   "source": [
    "### Our model"
   ]
  },
  {
   "cell_type": "code",
   "execution_count": 51,
   "metadata": {},
   "outputs": [],
   "source": [
    "dir='../result/baseline/esm_GCN_class/'"
   ]
  },
  {
   "cell_type": "code",
   "execution_count": 52,
   "metadata": {},
   "outputs": [
    {
     "name": "stdout",
     "output_type": "stream",
     "text": [
      "The best epoch is  27.16\n",
      "The best epoch is  28.94\n",
      "The best epoch is  28.94\n",
      "The best epoch is  30.1\n",
      "The best epoch is  28.73\n"
     ]
    }
   ],
   "source": [
    "model=np.concatenate((([parse_json_epoch(dir,3000,0,30)],[parse_json_epoch(dir,3000,1,30)],[parse_json_epoch(dir,3000,2,30)],[parse_json_epoch(dir,3000,3,30)],[parse_json_epoch(dir,3000,4,30)])))"
   ]
  },
  {
   "cell_type": "code",
   "execution_count": 53,
   "metadata": {},
   "outputs": [],
   "source": [
    "model_mean=model.mean(axis=0)\n",
    "model_metric=pd.DataFrame(index=task)\n",
    "model_metric[\"Accuracy\"]=model_mean[0]\n",
    "model_metric[\"Precision\"]=model_mean[2]\n",
    "model_metric[\"Recall\"]=model_mean[3]\n",
    "model_metric[\"F1\"]=model_mean[1]"
   ]
  },
  {
   "cell_type": "code",
   "execution_count": 54,
   "metadata": {},
   "outputs": [],
   "source": [
    "model_metric_all=pd.DataFrame({\"task\":task.to_list()*5,\"fold\":fold})"
   ]
  },
  {
   "cell_type": "code",
   "execution_count": 55,
   "metadata": {},
   "outputs": [],
   "source": [
    "model_metric_all[\"Accuracy\"]=model[:,0,:].flatten()\n",
    "model_metric_all[\"Precision\"]=model[:,1,:].flatten()\n",
    "model_metric_all[\"Recall\"]=model[:,2,:].flatten()\n",
    "model_metric_all[\"F1\"]=model[:,3,:].flatten()"
   ]
  },
  {
   "cell_type": "markdown",
   "metadata": {},
   "source": [
    "## Plot the perfomance metrics"
   ]
  },
  {
   "cell_type": "markdown",
   "metadata": {},
   "source": [
    "### Barplot"
   ]
  },
  {
   "cell_type": "code",
   "execution_count": 56,
   "metadata": {},
   "outputs": [],
   "source": [
    "df=pd.concat([wide_to_long(aug_metric,\"Augmanted\"),wide_to_long(eunirep_metric,\"eunirep\"),wide_to_long(gunirep_metric,\"gunirep\"),wide_to_long(model_metric,\"our_model\")])"
   ]
  },
  {
   "cell_type": "code",
   "execution_count": 59,
   "metadata": {},
   "outputs": [
    {
     "data": {
      "text/html": [
       "<div>\n",
       "<style scoped>\n",
       "    .dataframe tbody tr th:only-of-type {\n",
       "        vertical-align: middle;\n",
       "    }\n",
       "\n",
       "    .dataframe tbody tr th {\n",
       "        vertical-align: top;\n",
       "    }\n",
       "\n",
       "    .dataframe thead th {\n",
       "        text-align: right;\n",
       "    }\n",
       "</style>\n",
       "<table border=\"1\" class=\"dataframe\">\n",
       "  <thead>\n",
       "    <tr style=\"text-align: right;\">\n",
       "      <th></th>\n",
       "      <th>Task</th>\n",
       "      <th>metric</th>\n",
       "      <th>value</th>\n",
       "      <th>type</th>\n",
       "    </tr>\n",
       "  </thead>\n",
       "  <tbody>\n",
       "    <tr>\n",
       "      <th>0</th>\n",
       "      <td>ACE2</td>\n",
       "      <td>Accuracy</td>\n",
       "      <td>0.809115</td>\n",
       "      <td>Augmanted</td>\n",
       "    </tr>\n",
       "    <tr>\n",
       "      <th>1</th>\n",
       "      <td>ACE2</td>\n",
       "      <td>Precision</td>\n",
       "      <td>0.624695</td>\n",
       "      <td>Augmanted</td>\n",
       "    </tr>\n",
       "    <tr>\n",
       "      <th>2</th>\n",
       "      <td>ACE2</td>\n",
       "      <td>Recall</td>\n",
       "      <td>0.806465</td>\n",
       "      <td>Augmanted</td>\n",
       "    </tr>\n",
       "    <tr>\n",
       "      <th>3</th>\n",
       "      <td>ACE2</td>\n",
       "      <td>F1</td>\n",
       "      <td>0.645141</td>\n",
       "      <td>Augmanted</td>\n",
       "    </tr>\n",
       "    <tr>\n",
       "      <th>4</th>\n",
       "      <td>COV2-2096</td>\n",
       "      <td>Accuracy</td>\n",
       "      <td>0.881665</td>\n",
       "      <td>Augmanted</td>\n",
       "    </tr>\n",
       "  </tbody>\n",
       "</table>\n",
       "</div>"
      ],
      "text/plain": [
       "        Task     metric     value       type\n",
       "0       ACE2   Accuracy  0.809115  Augmanted\n",
       "1       ACE2  Precision  0.624695  Augmanted\n",
       "2       ACE2     Recall  0.806465  Augmanted\n",
       "3       ACE2         F1  0.645141  Augmanted\n",
       "4  COV2-2096   Accuracy  0.881665  Augmanted"
      ]
     },
     "execution_count": 59,
     "metadata": {},
     "output_type": "execute_result"
    }
   ],
   "source": [
    "df.head()"
   ]
  },
  {
   "cell_type": "code",
   "execution_count": 60,
   "metadata": {},
   "outputs": [],
   "source": [
    "plt.rcParams.update({'font.size': 13})"
   ]
  },
  {
   "cell_type": "code",
   "execution_count": 61,
   "metadata": {},
   "outputs": [
    {
     "data": {
      "image/png": "[encoded data removed]",
      "text/plain": [
       "<Figure size 648x288 with 1 Axes>"
      ]
     },
     "metadata": {
      "needs_background": "light"
     },
     "output_type": "display_data"
    }
   ],
   "source": [
    "plt.figure(figsize=(9,4))\n",
    "ax=sns.barplot(x=\"Task\",y=\"value\",hue=\"type\",data=df[df.metric==\"Accuracy\"],palette=[\"#be88a2\",\"#f0c972\",\"#6199be\",\"#98bb83\"])\n",
    "# ax.tick_params(axis='x', rotation=45)\n",
    "plt.setp(ax.get_xticklabels(), rotation=45, ha=\"right\", rotation_mode=\"anchor\")\n",
    "ax.yaxis.set_major_locator(MultipleLocator(0.2))\n",
    "hands, labs = ax.get_legend_handles_labels()\n",
    "new_labels=[\"Augmented Potts\",\"eUniRep\",\"gUniRep\",\"Ours\"]\n",
    "plt.legend(handles=hands,bbox_to_anchor=(0.5, -0.5), loc='lower center', borderaxespad=0,labels=new_labels,ncol=4,frameon=False)\n",
    "ax.set_xlabel(xlabel=None)\n",
    "ax.set_ylabel(ylabel=\"Value\",fontsize=13)\n",
    "ax.set_title(\"Accuracy\")\n",
    "plt.savefig('figures/Models_accuracy.png',dpi=500,bbox_inches = 'tight')"
   ]
  },
  {
   "cell_type": "code",
   "execution_count": 62,
   "metadata": {},
   "outputs": [
    {
     "data": {
      "image/png": "[encoded data removed]",
      "text/plain": [
       "<Figure size 648x288 with 1 Axes>"
      ]
     },
     "metadata": {
      "needs_background": "light"
     },
     "output_type": "display_data"
    }
   ],
   "source": [
    "plt.figure(figsize=(9,4))\n",
    "ax=sns.barplot(x=\"Task\",y=\"value\",hue=\"type\",data=df[df.metric==\"Precision\"],palette=[\"#be88a2\",\"#f0c972\",\"#6199be\",\"#98bb83\"])\n",
    "# ax.tick_params(axis='x', rotation=45)\n",
    "plt.setp(ax.get_xticklabels(), rotation=45, ha=\"right\", rotation_mode=\"anchor\")\n",
    "ax.yaxis.set_major_locator(MultipleLocator(0.2))\n",
    "hands, labs = ax.get_legend_handles_labels()\n",
    "new_labels=[\"Augmented Potts\",\"eUniRep\",\"gUniRep\",\"Ours\"]\n",
    "plt.legend(handles=hands,bbox_to_anchor=(0.5, -0.5), loc='lower center', borderaxespad=0,labels=new_labels,ncol=4,frameon=False)\n",
    "ax.set_xlabel(xlabel=None)\n",
    "ax.set_ylabel(ylabel=\"Value\",fontsize=13)\n",
    "ax.set_title(\"Precision\")\n",
    "plt.savefig('figures/Models_Precision.png',dpi=500,bbox_inches = 'tight')"
   ]
  },
  {
   "cell_type": "code",
   "execution_count": 63,
   "metadata": {},
   "outputs": [
    {
     "data": {
      "image/png": "[encoded data removed]",
      "text/plain": [
       "<Figure size 648x288 with 1 Axes>"
      ]
     },
     "metadata": {
      "needs_background": "light"
     },
     "output_type": "display_data"
    }
   ],
   "source": [
    "plt.figure(figsize=(9,4))\n",
    "ax=sns.barplot(x=\"Task\",y=\"value\",hue=\"type\",data=df[df.metric==\"Recall\"],palette=[\"#be88a2\",\"#f0c972\",\"#6199be\",\"#98bb83\"])\n",
    "# ax.tick_params(axis='x', rotation=45)\n",
    "plt.setp(ax.get_xticklabels(), rotation=45, ha=\"right\", rotation_mode=\"anchor\")\n",
    "ax.yaxis.set_major_locator(MultipleLocator(0.2))\n",
    "hands, labs = ax.get_legend_handles_labels()\n",
    "new_labels=[\"Augmented Potts\",\"eUniRep\",\"gUniRep\",\"Ours\"]\n",
    "plt.legend(handles=hands,bbox_to_anchor=(0.5, -0.5), loc='lower center', borderaxespad=0,labels=new_labels,ncol=4,frameon=False)\n",
    "ax.set_xlabel(xlabel=None)\n",
    "ax.set_ylabel(ylabel=\"Value\",fontsize=13)\n",
    "ax.set_title(\"Recall\")\n",
    "plt.savefig('figures/Models_Recall.png',dpi=500,bbox_inches = 'tight')"
   ]
  },
  {
   "cell_type": "code",
   "execution_count": 64,
   "metadata": {},
   "outputs": [
    {
     "data": {
      "image/png": "[encoded data removed]",
      "text/plain": [
       "<Figure size 648x288 with 1 Axes>"
      ]
     },
     "metadata": {
      "needs_background": "light"
     },
     "output_type": "display_data"
    }
   ],
   "source": [
    "plt.figure(figsize=(9,4))\n",
    "ax=sns.barplot(x=\"Task\",y=\"value\",hue=\"type\",data=df[df.metric==\"F1\"],palette=[\"#be88a2\",\"#f0c972\",\"#6199be\",\"#98bb83\"])\n",
    "# ax.tick_params(axis='x', rotation=45)\n",
    "plt.setp(ax.get_xticklabels(), rotation=45, ha=\"right\", rotation_mode=\"anchor\")\n",
    "ax.yaxis.set_major_locator(MultipleLocator(0.2))\n",
    "hands, labs = ax.get_legend_handles_labels()\n",
    "new_labels=[\"Augmented Potts\",\"eUniRep\",\"gUniRep\",\"Ours\"]\n",
    "plt.legend(handles=hands,bbox_to_anchor=(0.5, -0.5), loc='lower center', borderaxespad=0,labels=new_labels,ncol=4,frameon=False)\n",
    "ax.set_xlabel(xlabel=None)\n",
    "ax.set_ylabel(ylabel=\"Value\",fontsize=13)\n",
    "ax.set_title(\"F1\")\n",
    "plt.savefig('figures/Models_F1.png',dpi=500,bbox_inches = 'tight')"
   ]
  },
  {
   "cell_type": "markdown",
   "metadata": {},
   "source": [
    "### five fold plot"
   ]
  },
  {
   "cell_type": "code",
   "execution_count": 65,
   "metadata": {},
   "outputs": [],
   "source": [
    "model_metric_all[\"type\"]=\"our_model\"\n",
    "aug_metric_all[\"type\"]=\"aug\"\n",
    "eunirep_metric_all[\"type\"]=\"eunirep\"\n",
    "gunirep_metric_all[\"type\"]=\"gunirep\""
   ]
  },
  {
   "cell_type": "code",
   "execution_count": 66,
   "metadata": {},
   "outputs": [],
   "source": [
    "fivefold_df=pd.concat([aug_metric_all,eunirep_metric_all,gunirep_metric_all,model_metric_all])"
   ]
  },
  {
   "cell_type": "code",
   "execution_count": 67,
   "metadata": {},
   "outputs": [
    {
     "data": {
      "text/html": [
       "<div>\n",
       "<style scoped>\n",
       "    .dataframe tbody tr th:only-of-type {\n",
       "        vertical-align: middle;\n",
       "    }\n",
       "\n",
       "    .dataframe tbody tr th {\n",
       "        vertical-align: top;\n",
       "    }\n",
       "\n",
       "    .dataframe thead th {\n",
       "        text-align: right;\n",
       "    }\n",
       "</style>\n",
       "<table border=\"1\" class=\"dataframe\">\n",
       "  <thead>\n",
       "    <tr style=\"text-align: right;\">\n",
       "      <th></th>\n",
       "      <th>task</th>\n",
       "      <th>fold</th>\n",
       "      <th>Accuracy</th>\n",
       "      <th>Precision</th>\n",
       "      <th>Recall</th>\n",
       "      <th>F1</th>\n",
       "      <th>type</th>\n",
       "    </tr>\n",
       "  </thead>\n",
       "  <tbody>\n",
       "    <tr>\n",
       "      <th>0</th>\n",
       "      <td>ACE2</td>\n",
       "      <td>0</td>\n",
       "      <td>0.829370</td>\n",
       "      <td>0.635236</td>\n",
       "      <td>0.828069</td>\n",
       "      <td>0.663230</td>\n",
       "      <td>aug</td>\n",
       "    </tr>\n",
       "    <tr>\n",
       "      <th>1</th>\n",
       "      <td>COV2-2096</td>\n",
       "      <td>0</td>\n",
       "      <td>0.874575</td>\n",
       "      <td>0.783127</td>\n",
       "      <td>0.839146</td>\n",
       "      <td>0.805656</td>\n",
       "      <td>aug</td>\n",
       "    </tr>\n",
       "    <tr>\n",
       "      <th>2</th>\n",
       "      <td>COV2-2832</td>\n",
       "      <td>0</td>\n",
       "      <td>0.940946</td>\n",
       "      <td>0.740764</td>\n",
       "      <td>0.764005</td>\n",
       "      <td>0.751725</td>\n",
       "      <td>aug</td>\n",
       "    </tr>\n",
       "    <tr>\n",
       "      <th>3</th>\n",
       "      <td>COV2-2094</td>\n",
       "      <td>0</td>\n",
       "      <td>0.873008</td>\n",
       "      <td>0.706453</td>\n",
       "      <td>0.812370</td>\n",
       "      <td>0.741231</td>\n",
       "      <td>aug</td>\n",
       "    </tr>\n",
       "    <tr>\n",
       "      <th>4</th>\n",
       "      <td>COV2-2050</td>\n",
       "      <td>0</td>\n",
       "      <td>0.879540</td>\n",
       "      <td>0.663174</td>\n",
       "      <td>0.801393</td>\n",
       "      <td>0.701380</td>\n",
       "      <td>aug</td>\n",
       "    </tr>\n",
       "  </tbody>\n",
       "</table>\n",
       "</div>"
      ],
      "text/plain": [
       "        task  fold  Accuracy  Precision    Recall        F1 type\n",
       "0       ACE2     0  0.829370   0.635236  0.828069  0.663230  aug\n",
       "1  COV2-2096     0  0.874575   0.783127  0.839146  0.805656  aug\n",
       "2  COV2-2832     0  0.940946   0.740764  0.764005  0.751725  aug\n",
       "3  COV2-2094     0  0.873008   0.706453  0.812370  0.741231  aug\n",
       "4  COV2-2050     0  0.879540   0.663174  0.801393  0.701380  aug"
      ]
     },
     "execution_count": 67,
     "metadata": {},
     "output_type": "execute_result"
    }
   ],
   "source": [
    "fivefold_df.head()"
   ]
  },
  {
   "cell_type": "code",
   "execution_count": 72,
   "metadata": {},
   "outputs": [
    {
     "data": {
      "image/png": "[encoded data removed]",
      "text/plain": [
       "<Figure size 648x288 with 1 Axes>"
      ]
     },
     "metadata": {
      "needs_background": "light"
     },
     "output_type": "display_data"
    }
   ],
   "source": [
    "plt.figure(figsize=(9,4))\n",
    "ax=sns.pointplot(x=\"task\",y=\"Accuracy\",hue=\"type\",data=fivefold_df,palette=[\"#be88a2\",\"#f0c972\",\"#6199be\",\"#98bb83\"],join=False,dodge=0.3)\n",
    "ax.tick_params(axis='x', rotation=45)\n",
    "plt.setp(ax.get_xticklabels(), rotation=45, ha=\"right\", rotation_mode=\"anchor\")\n",
    "ax.set_ylim([0,1])\n",
    "ax.set_ylim([0,1])\n",
    "ax.yaxis.set_major_locator(MultipleLocator(0.2))\n",
    "hands, labs = ax.get_legend_handles_labels()\n",
    "new_labels=[\"Augmented Potts\",\"eUniRep\",\"gUniRep\",\"Ours\"]\n",
    "plt.legend(handles=hands,bbox_to_anchor=(0.5, -0.5), loc='lower center', borderaxespad=0,labels=new_labels,ncol=4,frameon=False)\n",
    "ax.set_xlabel(xlabel=None)\n",
    "ax.set_ylabel(ylabel=\"Value\",fontsize=13)\n",
    "ax.set_title(\"Accuracy\")\n",
    "plt.savefig('figures/errorbar_Models_accuracy.png',dpi=500,bbox_inches = 'tight')"
   ]
  },
  {
   "cell_type": "code",
   "execution_count": 74,
   "metadata": {},
   "outputs": [
    {
     "data": {
      "image/png": "[encoded data removed]",
      "text/plain": [
       "<Figure size 648x288 with 1 Axes>"
      ]
     },
     "metadata": {
      "needs_background": "light"
     },
     "output_type": "display_data"
    }
   ],
   "source": [
    "plt.figure(figsize=(9,4))\n",
    "ax=sns.pointplot(x=\"task\",y=\"Precision\",hue=\"type\",data=fivefold_df,palette=[\"#be88a2\",\"#f0c972\",\"#6199be\",\"#98bb83\"],join=False,dodge=0.3)\n",
    "#ax=sns.stripplot(x=\"task\",y=\"Accuracy\",hue=\"type\",data=box_df,color=\"0.25\")\n",
    "ax.tick_params(axis='x', rotation=45)\n",
    "plt.setp(ax.get_xticklabels(), rotation=45, ha=\"right\", rotation_mode=\"anchor\")\n",
    "ax.set_ylim([0,1])\n",
    "ax.yaxis.set_major_locator(MultipleLocator(0.2))\n",
    "hands, labs = ax.get_legend_handles_labels()\n",
    "new_labels=[\"Augmented Potts\",\"eUniRep\",\"gUniRep\",\"Ours\"]\n",
    "plt.legend(handles=hands,bbox_to_anchor=(0.5, -0.5), loc='lower center', borderaxespad=0,labels=new_labels,ncol=4,frameon=False)\n",
    "ax.set_xlabel(xlabel=None)\n",
    "ax.set_ylabel(ylabel=\"Value\",fontsize=13)\n",
    "ax.set_title(\"Precision\")\n",
    "plt.savefig('figures/errorbar_Models_precision.png',dpi=500,bbox_inches = 'tight')"
   ]
  },
  {
   "cell_type": "code",
   "execution_count": 75,
   "metadata": {},
   "outputs": [
    {
     "data": {
      "image/png": "[encoded data removed]",
      "text/plain": [
       "<Figure size 648x288 with 1 Axes>"
      ]
     },
     "metadata": {
      "needs_background": "light"
     },
     "output_type": "display_data"
    }
   ],
   "source": [
    "plt.figure(figsize=(9,4))\n",
    "ax=sns.pointplot(x=\"task\",y=\"Recall\",hue=\"type\",data=fivefold_df,palette=[\"#be88a2\",\"#f0c972\",\"#6199be\",\"#98bb83\"],join=False,dodge=0.3)\n",
    "#ax=sns.stripplot(x=\"task\",y=\"Accuracy\",hue=\"type\",data=box_df,color=\"0.25\")\n",
    "ax.tick_params(axis='x', rotation=45)\n",
    "plt.setp(ax.get_xticklabels(), rotation=45, ha=\"right\", rotation_mode=\"anchor\")\n",
    "ax.set_ylim([0,1])\n",
    "ax.yaxis.set_major_locator(MultipleLocator(0.2))\n",
    "hands, labs = ax.get_legend_handles_labels()\n",
    "new_labels=[\"Augmented Potts\",\"eUniRep\",\"gUniRep\",\"Ours\"]\n",
    "plt.legend(handles=hands,bbox_to_anchor=(0.5, -0.5), loc='lower center', borderaxespad=0,labels=new_labels,ncol=4,frameon=False)\n",
    "ax.set_xlabel(xlabel=None)\n",
    "ax.set_ylabel(ylabel=\"Value\",fontsize=13)\n",
    "ax.set_title(\"Recall\")\n",
    "plt.savefig('figures/errorbar_Models_Recall.png',dpi=500,bbox_inches = 'tight')"
   ]
  },
  {
   "cell_type": "code",
   "execution_count": 76,
   "metadata": {},
   "outputs": [
    {
     "data": {
      "image/png": "[encoded data removed]",
      "text/plain": [
       "<Figure size 648x288 with 1 Axes>"
      ]
     },
     "metadata": {
      "needs_background": "light"
     },
     "output_type": "display_data"
    }
   ],
   "source": [
    "plt.figure(figsize=(9,4))\n",
    "ax=sns.pointplot(x=\"task\",y=\"F1\",hue=\"type\",data=fivefold_df,palette=[\"#be88a2\",\"#f0c972\",\"#6199be\",\"#98bb83\"],join=False,dodge=0.3)\n",
    "#ax=sns.stripplot(x=\"task\",y=\"Accuracy\",hue=\"type\",data=box_df,color=\"0.25\")\n",
    "ax.tick_params(axis='x', rotation=45)\n",
    "plt.setp(ax.get_xticklabels(), rotation=45, ha=\"right\", rotation_mode=\"anchor\")\n",
    "ax.set_ylim([0,1])\n",
    "ax.yaxis.set_major_locator(MultipleLocator(0.2))\n",
    "hands, labs = ax.get_legend_handles_labels()\n",
    "new_labels=[\"Augmented Potts\",\"eUniRep\",\"gUniRep\",\"Ours\"]\n",
    "plt.legend(handles=hands,bbox_to_anchor=(0.5, -0.5), loc='lower center', borderaxespad=0,labels=new_labels,ncol=4,frameon=False)\n",
    "ax.set_xlabel(xlabel=None)\n",
    "ax.set_ylabel(ylabel=\"Value\",fontsize=13)\n",
    "ax.set_title(\"F1\")\n",
    "plt.savefig('figures/errorbar_Models_F1.png',dpi=500,bbox_inches = 'tight')"
   ]
  },
  {
   "cell_type": "markdown",
   "metadata": {},
   "source": [
    "## Ablation study"
   ]
  },
  {
   "cell_type": "markdown",
   "metadata": {},
   "source": [
    "### Barplot"
   ]
  },
  {
   "cell_type": "code",
   "execution_count": 77,
   "metadata": {},
   "outputs": [],
   "source": [
    "df2=pd.concat([wide_to_long(no_freeze_metric,\"esm_freeze\"),wide_to_long(rand_noise_metric,\"rand_noise\"),wide_to_long(model_metric,\"our_model\")])"
   ]
  },
  {
   "cell_type": "code",
   "execution_count": 97,
   "metadata": {},
   "outputs": [
    {
     "data": {
      "image/png": "[encoded data removed]",
      "text/plain": [
       "<Figure size 648x288 with 1 Axes>"
      ]
     },
     "metadata": {
      "needs_background": "light"
     },
     "output_type": "display_data"
    }
   ],
   "source": [
    "plt.figure(figsize=(9,4))\n",
    "ax=sns.barplot(x=\"Task\",y=\"value\",hue=\"type\",data=df2[df2.metric==\"Accuracy\"],palette=[\"#966b9d\",\"#f2b880\",\"#98bb83\"])\n",
    "# ax.tick_params(axis='x', rotation=45)\n",
    "plt.setp(ax.get_xticklabels(), rotation=45, ha=\"right\", rotation_mode=\"anchor\")\n",
    "ax.yaxis.set_major_locator(MultipleLocator(0.2))\n",
    "hands, labs = ax.get_legend_handles_labels()\n",
    "new_labels=[\"Esm-1b embeddings\",\"Esm-1b finetuning\",\"Ours\"]\n",
    "plt.legend(handles=hands,bbox_to_anchor=(0.5, -0.5), loc='lower center', borderaxespad=0,labels=new_labels,ncol=4,frameon=False)\n",
    "ax.set_xlabel(xlabel=None)\n",
    "ax.set_ylabel(ylabel=\"Value\",fontsize=13)\n",
    "ax.set_title(\"Accuracy\")\n",
    "plt.savefig('figures/ablation_accuracy.png',dpi=500,bbox_inches = 'tight')"
   ]
  },
  {
   "cell_type": "code",
   "execution_count": 98,
   "metadata": {},
   "outputs": [
    {
     "data": {
      "image/png": "[encoded data removed]",
      "text/plain": [
       "<Figure size 648x288 with 1 Axes>"
      ]
     },
     "metadata": {
      "needs_background": "light"
     },
     "output_type": "display_data"
    }
   ],
   "source": [
    "plt.figure(figsize=(9,4))\n",
    "ax=sns.barplot(x=\"Task\",y=\"value\",hue=\"type\",data=df2[df2.metric==\"Precision\"],palette=[\"#966b9d\",\"#f2b880\",\"#98bb83\"])\n",
    "# ax.tick_params(axis='x', rotation=45)\n",
    "plt.setp(ax.get_xticklabels(), rotation=45, ha=\"right\", rotation_mode=\"anchor\")\n",
    "ax.yaxis.set_major_locator(MultipleLocator(0.2))\n",
    "hands, labs = ax.get_legend_handles_labels()\n",
    "new_labels=[\"Esm-1b embeddings\",\"Esm-1b finetuning\",\"Ours\"]\n",
    "plt.legend(handles=hands,bbox_to_anchor=(0.5, -0.5), loc='lower center', borderaxespad=0,labels=new_labels,ncol=4,frameon=False)\n",
    "ax.set_xlabel(xlabel=None)\n",
    "ax.set_ylabel(ylabel=\"Value\",fontsize=13)\n",
    "ax.set_title(\"Precision\")\n",
    "plt.savefig('figures/ablation_Precision.png',dpi=500,bbox_inches = 'tight')"
   ]
  },
  {
   "cell_type": "code",
   "execution_count": 99,
   "metadata": {},
   "outputs": [
    {
     "data": {
      "image/png": "[encoded data removed]",
      "text/plain": [
       "<Figure size 648x288 with 1 Axes>"
      ]
     },
     "metadata": {
      "needs_background": "light"
     },
     "output_type": "display_data"
    }
   ],
   "source": [
    "plt.figure(figsize=(9,4))\n",
    "ax=sns.barplot(x=\"Task\",y=\"value\",hue=\"type\",data=df2[df2.metric==\"Recall\"],palette=[\"#966b9d\",\"#f2b880\",\"#98bb83\"])\n",
    "# ax.tick_params(axis='x', rotation=45)\n",
    "plt.setp(ax.get_xticklabels(), rotation=45, ha=\"right\", rotation_mode=\"anchor\")\n",
    "ax.yaxis.set_major_locator(MultipleLocator(0.2))\n",
    "hands, labs = ax.get_legend_handles_labels()\n",
    "new_labels=[\"Esm-1b embeddings\",\"Esm-1b finetuning\",\"Ours\"]\n",
    "plt.legend(handles=hands,bbox_to_anchor=(0.5, -0.5), loc='lower center', borderaxespad=0,labels=new_labels,ncol=4,frameon=False)\n",
    "ax.set_xlabel(xlabel=None)\n",
    "ax.set_ylabel(ylabel=\"Value\",fontsize=13)\n",
    "ax.set_title(\"Recall\")\n",
    "plt.savefig('figures/ablation_Recall.png',dpi=500,bbox_inches = 'tight')"
   ]
  },
  {
   "cell_type": "code",
   "execution_count": 100,
   "metadata": {},
   "outputs": [
    {
     "data": {
      "image/png": "[encoded data removed]",
      "text/plain": [
       "<Figure size 648x288 with 1 Axes>"
      ]
     },
     "metadata": {
      "needs_background": "light"
     },
     "output_type": "display_data"
    }
   ],
   "source": [
    "plt.figure(figsize=(9,4))\n",
    "ax=sns.barplot(x=\"Task\",y=\"value\",hue=\"type\",data=df2[df2.metric==\"F1\"],palette=[\"#966b9d\",\"#f2b880\",\"#98bb83\"])\n",
    "# ax.tick_params(axis='x', rotation=45)\n",
    "plt.setp(ax.get_xticklabels(), rotation=45, ha=\"right\", rotation_mode=\"anchor\")\n",
    "ax.yaxis.set_major_locator(MultipleLocator(0.2))\n",
    "hands, labs = ax.get_legend_handles_labels()\n",
    "new_labels=[\"Esm-1b embeddings\",\"Esm-1b finetuning\",\"Ours\"]\n",
    "plt.legend(handles=hands,bbox_to_anchor=(0.5, -0.5), loc='lower center', borderaxespad=0,labels=new_labels,ncol=4,frameon=False)\n",
    "ax.set_xlabel(xlabel=None)\n",
    "ax.set_ylabel(ylabel=\"Value\",fontsize=13)\n",
    "ax.set_title(\"F1\")\n",
    "plt.savefig('figures/ablation_F1.png',dpi=500,bbox_inches = 'tight')"
   ]
  },
  {
   "cell_type": "markdown",
   "metadata": {},
   "source": [
    "### Five fold plot"
   ]
  },
  {
   "cell_type": "code",
   "execution_count": 87,
   "metadata": {},
   "outputs": [],
   "source": [
    "model_metric_all[\"type\"]=\"our_model\"\n",
    "rand_noise_metric_all[\"type\"]=\"rand_noise\"\n",
    "no_freeze_metric_all[\"type\"]=\"no_freeze\""
   ]
  },
  {
   "cell_type": "code",
   "execution_count": 88,
   "metadata": {},
   "outputs": [],
   "source": [
    "fivefold_df2=pd.concat([no_freeze_metric_all,rand_noise_metric_all,model_metric_all])"
   ]
  },
  {
   "cell_type": "code",
   "execution_count": 89,
   "metadata": {},
   "outputs": [
    {
     "data": {
      "text/html": [
       "<div>\n",
       "<style scoped>\n",
       "    .dataframe tbody tr th:only-of-type {\n",
       "        vertical-align: middle;\n",
       "    }\n",
       "\n",
       "    .dataframe tbody tr th {\n",
       "        vertical-align: top;\n",
       "    }\n",
       "\n",
       "    .dataframe thead th {\n",
       "        text-align: right;\n",
       "    }\n",
       "</style>\n",
       "<table border=\"1\" class=\"dataframe\">\n",
       "  <thead>\n",
       "    <tr style=\"text-align: right;\">\n",
       "      <th></th>\n",
       "      <th>task</th>\n",
       "      <th>fold</th>\n",
       "      <th>Accuracy</th>\n",
       "      <th>Precision</th>\n",
       "      <th>Recall</th>\n",
       "      <th>F1</th>\n",
       "      <th>type</th>\n",
       "    </tr>\n",
       "  </thead>\n",
       "  <tbody>\n",
       "    <tr>\n",
       "      <th>0</th>\n",
       "      <td>ACE2</td>\n",
       "      <td>0</td>\n",
       "      <td>0.923177</td>\n",
       "      <td>0.461589</td>\n",
       "      <td>0.500000</td>\n",
       "      <td>0.480027</td>\n",
       "      <td>no_freeze</td>\n",
       "    </tr>\n",
       "    <tr>\n",
       "      <th>1</th>\n",
       "      <td>COV2-2096</td>\n",
       "      <td>0</td>\n",
       "      <td>0.847400</td>\n",
       "      <td>0.867015</td>\n",
       "      <td>0.579273</td>\n",
       "      <td>0.595077</td>\n",
       "      <td>no_freeze</td>\n",
       "    </tr>\n",
       "    <tr>\n",
       "      <th>2</th>\n",
       "      <td>COV2-2832</td>\n",
       "      <td>0</td>\n",
       "      <td>0.941469</td>\n",
       "      <td>0.970681</td>\n",
       "      <td>0.515152</td>\n",
       "      <td>0.514309</td>\n",
       "      <td>no_freeze</td>\n",
       "    </tr>\n",
       "    <tr>\n",
       "      <th>3</th>\n",
       "      <td>COV2-2094</td>\n",
       "      <td>0</td>\n",
       "      <td>0.893650</td>\n",
       "      <td>0.946714</td>\n",
       "      <td>0.509639</td>\n",
       "      <td>0.490770</td>\n",
       "      <td>no_freeze</td>\n",
       "    </tr>\n",
       "    <tr>\n",
       "      <th>4</th>\n",
       "      <td>COV2-2050</td>\n",
       "      <td>0</td>\n",
       "      <td>0.929187</td>\n",
       "      <td>0.964426</td>\n",
       "      <td>0.531142</td>\n",
       "      <td>0.540189</td>\n",
       "      <td>no_freeze</td>\n",
       "    </tr>\n",
       "  </tbody>\n",
       "</table>\n",
       "</div>"
      ],
      "text/plain": [
       "        task  fold  Accuracy  Precision    Recall        F1       type\n",
       "0       ACE2     0  0.923177   0.461589  0.500000  0.480027  no_freeze\n",
       "1  COV2-2096     0  0.847400   0.867015  0.579273  0.595077  no_freeze\n",
       "2  COV2-2832     0  0.941469   0.970681  0.515152  0.514309  no_freeze\n",
       "3  COV2-2094     0  0.893650   0.946714  0.509639  0.490770  no_freeze\n",
       "4  COV2-2050     0  0.929187   0.964426  0.531142  0.540189  no_freeze"
      ]
     },
     "execution_count": 89,
     "metadata": {},
     "output_type": "execute_result"
    }
   ],
   "source": [
    "fivefold_df2.head()"
   ]
  },
  {
   "cell_type": "code",
   "execution_count": 101,
   "metadata": {},
   "outputs": [
    {
     "data": {
      "image/png": "[encoded data removed]",
      "text/plain": [
       "<Figure size 648x288 with 1 Axes>"
      ]
     },
     "metadata": {
      "needs_background": "light"
     },
     "output_type": "display_data"
    }
   ],
   "source": [
    "plt.figure(figsize=(9,4))\n",
    "ax=sns.pointplot(x=\"task\",y=\"Accuracy\",hue=\"type\",data=fivefold_df2,palette=[\"#966b9d\",\"#f2b880\",\"#98bb83\"],join=False,dodge=0.3)\n",
    "#ax=sns.stripplot(x=\"task\",y=\"Accuracy\",hue=\"type\",data=box_df,color=\"0.25\")\n",
    "ax.tick_params(axis='x', rotation=45)\n",
    "plt.setp(ax.get_xticklabels(), rotation=45, ha=\"right\", rotation_mode=\"anchor\")\n",
    "ax.set_ylim([0,1])\n",
    "ax.set_ylim([0,1])\n",
    "ax.yaxis.set_major_locator(MultipleLocator(0.2))\n",
    "hands, labs = ax.get_legend_handles_labels()\n",
    "new_labels=[\"Esm-1b embeddings\",\"Esm-1b finetuning\",\"Ours\"]\n",
    "plt.legend(handles=hands,bbox_to_anchor=(0.5, -0.5), loc='lower center', borderaxespad=0,labels=new_labels,ncol=4,frameon=False)\n",
    "ax.set_xlabel(xlabel=None)\n",
    "ax.set_ylabel(ylabel=\"Value\",fontsize=13)\n",
    "ax.set_title(\"Accuracy\")\n",
    "plt.savefig('figures/errorbar_ablation_accuracy.png',dpi=500,bbox_inches = 'tight')"
   ]
  },
  {
   "cell_type": "code",
   "execution_count": 102,
   "metadata": {},
   "outputs": [
    {
     "data": {
      "image/png": "[encoded data removed]",
      "text/plain": [
       "<Figure size 648x288 with 1 Axes>"
      ]
     },
     "metadata": {
      "needs_background": "light"
     },
     "output_type": "display_data"
    }
   ],
   "source": [
    "plt.figure(figsize=(9,4))\n",
    "ax=sns.pointplot(x=\"task\",y=\"Precision\",hue=\"type\",data=fivefold_df2,palette=[\"#966b9d\",\"#f2b880\",\"#98bb83\"],join=False,dodge=0.3)\n",
    "#ax=sns.stripplot(x=\"task\",y=\"Accuracy\",hue=\"type\",data=box_df,color=\"0.25\")\n",
    "ax.tick_params(axis='x', rotation=45)\n",
    "plt.setp(ax.get_xticklabels(), rotation=45, ha=\"right\", rotation_mode=\"anchor\")\n",
    "ax.set_ylim([0,1])\n",
    "ax.set_ylim([0,1])\n",
    "ax.yaxis.set_major_locator(MultipleLocator(0.2))\n",
    "hands, labs = ax.get_legend_handles_labels()\n",
    "new_labels=[\"Esm-1b embeddings\",\"Esm-1b finetuning\",\"Ours\"]\n",
    "plt.legend(handles=hands,bbox_to_anchor=(0.5, -0.5), loc='lower center', borderaxespad=0,labels=new_labels,ncol=4,frameon=False)\n",
    "ax.set_xlabel(xlabel=None)\n",
    "ax.set_ylabel(ylabel=\"Value\",fontsize=13)\n",
    "ax.set_title(\"Precision\")\n",
    "plt.savefig('figures/errorbar_ablation_Precision.png',dpi=500,bbox_inches = 'tight')"
   ]
  },
  {
   "cell_type": "code",
   "execution_count": 103,
   "metadata": {},
   "outputs": [
    {
     "data": {
      "image/png": "[encoded data removed]",
      "text/plain": [
       "<Figure size 648x288 with 1 Axes>"
      ]
     },
     "metadata": {
      "needs_background": "light"
     },
     "output_type": "display_data"
    }
   ],
   "source": [
    "plt.figure(figsize=(9,4))\n",
    "ax=sns.pointplot(x=\"task\",y=\"Recall\",hue=\"type\",data=fivefold_df2,palette=[\"#966b9d\",\"#f2b880\",\"#98bb83\"],join=False,dodge=0.3)\n",
    "#ax=sns.stripplot(x=\"task\",y=\"Accuracy\",hue=\"type\",data=box_df,color=\"0.25\")\n",
    "ax.tick_params(axis='x', rotation=45)\n",
    "plt.setp(ax.get_xticklabels(), rotation=45, ha=\"right\", rotation_mode=\"anchor\")\n",
    "ax.set_ylim([0,1])\n",
    "ax.set_ylim([0,1])\n",
    "ax.yaxis.set_major_locator(MultipleLocator(0.2))\n",
    "hands, labs = ax.get_legend_handles_labels()\n",
    "new_labels=[\"Esm-1b embeddings\",\"Esm-1b finetuning\",\"Ours\"]\n",
    "plt.legend(handles=hands,bbox_to_anchor=(0.5, -0.5), loc='lower center', borderaxespad=0,labels=new_labels,ncol=4,frameon=False)\n",
    "ax.set_xlabel(xlabel=None)\n",
    "ax.set_ylabel(ylabel=\"Value\",fontsize=13)\n",
    "ax.set_title(\"Recall\")\n",
    "plt.savefig('figures/errorbar_ablation_Recall.png',dpi=500,bbox_inches = 'tight')"
   ]
  },
  {
   "cell_type": "code",
   "execution_count": 104,
   "metadata": {},
   "outputs": [
    {
     "data": {
      "image/png": "[encoded data removed]",
      "text/plain": [
       "<Figure size 648x288 with 1 Axes>"
      ]
     },
     "metadata": {
      "needs_background": "light"
     },
     "output_type": "display_data"
    }
   ],
   "source": [
    "plt.figure(figsize=(9,4))\n",
    "ax=sns.pointplot(x=\"task\",y=\"F1\",hue=\"type\",data=fivefold_df2,palette=[\"#966b9d\",\"#f2b880\",\"#98bb83\"],join=False,dodge=0.3)\n",
    "#ax=sns.stripplot(x=\"task\",y=\"Accuracy\",hue=\"type\",data=box_df,color=\"0.25\")\n",
    "ax.tick_params(axis='x', rotation=45)\n",
    "plt.setp(ax.get_xticklabels(), rotation=45, ha=\"right\", rotation_mode=\"anchor\")\n",
    "ax.set_ylim([0,1])\n",
    "ax.set_ylim([0,1])\n",
    "ax.yaxis.set_major_locator(MultipleLocator(0.2))\n",
    "hands, labs = ax.get_legend_handles_labels()\n",
    "new_labels=[\"Esm-1b embeddings\",\"Esm-1b finetuning\",\"Ours\"]\n",
    "plt.legend(handles=hands,bbox_to_anchor=(0.5, -0.5), loc='lower center', borderaxespad=0,labels=new_labels,ncol=4,frameon=False)\n",
    "ax.set_xlabel(xlabel=None)\n",
    "ax.set_ylabel(ylabel=\"Value\",fontsize=13)\n",
    "ax.set_title(\"F1\")\n",
    "plt.savefig('figures/errorbar_ablation_F1.png',dpi=500,bbox_inches = 'tight')"
   ]
  }
 ],
 "metadata": {
  "interpreter": {
   "hash": "e5403bd6fae07f7a16f7af28e8cd922d30b05ce0abdec05205bb01e19b6c8d16"
  },
  "kernelspec": {
   "display_name": "Python 3.8.5 ('base')",
   "language": "python",
   "name": "python3"
  },
  "language_info": {
   "codemirror_mode": {
    "name": "ipython",
    "version": 3
   },
   "file_extension": ".py",
   "mimetype": "text/x-python",
   "name": "python",
   "nbconvert_exporter": "python",
   "pygments_lexer": "ipython3",
   "version": "3.8.5"
  },
  "orig_nbformat": 4
 },
 "nbformat": 4,
 "nbformat_minor": 2
}
