{
 "cells": [
  {
   "cell_type": "code",
   "execution_count": 12,
   "metadata": {},
   "outputs": [
    {
     "ename": "ModuleNotFoundError",
     "evalue": "No module named 'datasets'",
     "output_type": "error",
     "traceback": [
      "\u001b[0;31m---------------------------------------------------------------------------\u001b[0m",
      "\u001b[0;31mModuleNotFoundError\u001b[0m                       Traceback (most recent call last)",
      "\u001b[1;32m/home/chenn0a/chenn0a/covid_esm1b/Covid-predict/src/test.ipynb Cell 1'\u001b[0m in \u001b[0;36m<cell line: 4>\u001b[0;34m()\u001b[0m\n\u001b[1;32m      <a href='vscode-notebook-cell://ssh-remote%2Bibex/home/chenn0a/chenn0a/covid_esm1b/Covid-predict/src/test.ipynb#ch0000003vscode-remote?line=1'>2</a>\u001b[0m \u001b[39mimport\u001b[39;00m \u001b[39mutils\u001b[39;00m\u001b[39m.\u001b[39;00m\u001b[39mOpenAttack\u001b[39;00m \u001b[39mas\u001b[39;00m \u001b[39moa\u001b[39;00m \n\u001b[1;32m      <a href='vscode-notebook-cell://ssh-remote%2Bibex/home/chenn0a/chenn0a/covid_esm1b/Covid-predict/src/test.ipynb#ch0000003vscode-remote?line=2'>3</a>\u001b[0m \u001b[39mimport\u001b[39;00m \u001b[39mtorch\u001b[39;00m\n\u001b[0;32m----> <a href='vscode-notebook-cell://ssh-remote%2Bibex/home/chenn0a/chenn0a/covid_esm1b/Covid-predict/src/test.ipynb#ch0000003vscode-remote?line=3'>4</a>\u001b[0m \u001b[39mimport\u001b[39;00m \u001b[39mdatasets\u001b[39;00m\n\u001b[1;32m      <a href='vscode-notebook-cell://ssh-remote%2Bibex/home/chenn0a/chenn0a/covid_esm1b/Covid-predict/src/test.ipynb#ch0000003vscode-remote?line=4'>5</a>\u001b[0m \u001b[39mfrom\u001b[39;00m \u001b[39mmodel\u001b[39;00m \u001b[39mimport\u001b[39;00m covid_prediction_model\n\u001b[1;32m      <a href='vscode-notebook-cell://ssh-remote%2Bibex/home/chenn0a/chenn0a/covid_esm1b/Covid-predict/src/test.ipynb#ch0000003vscode-remote?line=5'>6</a>\u001b[0m \u001b[39mimport\u001b[39;00m \u001b[39mesm\u001b[39;00m\n",
      "\u001b[0;31mModuleNotFoundError\u001b[0m: No module named 'datasets'"
     ]
    }
   ],
   "source": [
    "from matplotlib.pyplot import cla\n",
    "import utils.OpenAttack as oa \n",
    "import torch\n",
    "import datasets\n",
    "from model import covid_prediction_model\n",
    "import esm\n",
    "import numpy as np\n",
    "import torch.nn.functional as F\n",
    "import time\n",
    "import os\n",
    "from utils.OpenAttack.attack_assist.substitute.word import ProteinBlosum62Substitute\n",
    "import pandas as pd\n",
    "from collections import defaultdict\n",
    "import multiprocessing as mp\n",
    "import time\n",
    "from dateutil.parser import parse as dparse"
   ]
  },
  {
   "cell_type": "code",
   "execution_count": null,
   "metadata": {},
   "outputs": [],
   "source": []
  }
 ],
 "metadata": {
  "interpreter": {
   "hash": "bab3cbefaf7d8ff7f5ba91aca4c9c302951aa4fbe8435b755113c1942cc31df0"
  },
  "kernelspec": {
   "display_name": "Python 3.8.5 ('covid_predict')",
   "language": "python",
   "name": "python3"
  },
  "language_info": {
   "codemirror_mode": {
    "name": "ipython",
    "version": 3
   },
   "file_extension": ".py",
   "mimetype": "text/x-python",
   "name": "python",
   "nbconvert_exporter": "python",
   "pygments_lexer": "ipython3",
   "version": "3.8.13"
  },
  "orig_nbformat": 4
 },
 "nbformat": 4,
 "nbformat_minor": 2
}
